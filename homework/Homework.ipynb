{
 "cells": [
  {
   "cell_type": "markdown",
   "metadata": {},
   "source": [
    "# Homework assignments\n",
    "---\n",
    "\n",
    "The assignments can be done separatly or in pairs.\n",
    "\n",
    "**Day 1:** *Exercise 1-7.*\n",
    "**Day 2:** *Exercise 8-13.*\n",
    "\n",
    "\n",
    "*Notice:*\n",
    "\n",
    "After each exercise you should consider the following to improve your implementation:\n",
    "- Could the user input something that will make your program crash?\n",
    "- Can the implementation be separated into minor atomic operations?\n",
    "- If you run the code again after a year, will the output be the same?\n",
    "- Is there a way to make the user experience of your application any better by applying linebreaks, characters, separator lines etc.?\n",
    "---"
   ]
  },
  {
   "cell_type": "markdown",
   "metadata": {},
   "source": [
    "\n",
    "## Exercise 1\n",
    "\n",
    "Create a Python program that takes a string as an input, and prints the string on the screen:\n",
    "\n",
    "```\n",
    "Input:  \"Hello world!\"\n",
    "Output: \"Hello world!\"\n",
    "```\n"
   ]
  },
  {
   "cell_type": "code",
   "execution_count": 2,
   "metadata": {},
   "outputs": [],
   "source": [
    "# Write your code here:\n"
   ]
  },
  {
   "cell_type": "markdown",
   "metadata": {},
   "source": [
    "---\n",
    "## Exercise 2\n",
    "\n",
    "Create a Python program that takes a string as an input, reversing the string and prints the reversed string back on the screen:\n",
    "\n",
    "```\n",
    "Input:  \"Hello world!\"\n",
    "Output: \"!dlrow olleH\"\n",
    "```\n"
   ]
  },
  {
   "cell_type": "code",
   "execution_count": 2,
   "metadata": {},
   "outputs": [],
   "source": [
    "# Write your code here:\n"
   ]
  },
  {
   "cell_type": "markdown",
   "metadata": {},
   "source": [
    "---\n",
    "## Exercise 3\n",
    "\n",
    "Create a Python program that takes a number as an input and returns the square root of the number:\n",
    "\n",
    "```\n",
    "Input:  16\n",
    "Output: 4\n",
    "```"
   ]
  },
  {
   "cell_type": "code",
   "execution_count": 2,
   "metadata": {},
   "outputs": [],
   "source": [
    "# Write your code here:\n"
   ]
  },
  {
   "cell_type": "markdown",
   "metadata": {},
   "source": [
    "---\n",
    "## Exercise 4\n",
    "\n",
    "Create a Python program to check if a positive number can be devided by 3 (should not have any decimal after the division):\n",
    "\n",
    "```\n",
    "Input:  9\n",
    "Output: True\n",
    "    \n",
    "Input:  14\n",
    "Output: False\n",
    "```"
   ]
  },
  {
   "cell_type": "code",
   "execution_count": 2,
   "metadata": {},
   "outputs": [],
   "source": [
    "# Write your code here:\n"
   ]
  },
  {
   "cell_type": "markdown",
   "metadata": {},
   "source": [
    "---\n",
    "## Exercise 5\n",
    "\n",
    "Create a Python calculator that takes in two numbers, and do a calculation on the numbers based on a third input ('+', '-', '*', '/'): \n",
    "\n",
    "```\n",
    "## Example of the complete program:\n",
    "------------------------------------------\n",
    "Welcome to this awesome calculator!!!L33T\n",
    "First number: 5\n",
    "Second number: 3\n",
    "Select operation ('+', '-', '*', '/'): +\n",
    "------------------------------------------\n",
    "5+3=8\n",
    "------------------------------------------\n",
    "```"
   ]
  },
  {
   "cell_type": "code",
   "execution_count": 2,
   "metadata": {},
   "outputs": [],
   "source": [
    "# Write your code here:\n"
   ]
  },
  {
   "cell_type": "markdown",
   "metadata": {},
   "source": [
    "---\n",
    "## Exercise 6 (Hard)\n",
    "\n",
    "Create a Python program that takes a string as an input and prints the frequence of each character in the sentence in a descending order:\n",
    "\n",
    "```\n",
    "Input: \"digitaliseringsdirektoratet\"\n",
    "Output: \"{'i': 5, 't': 4, 'e': 3, 'r': 3, 'd': 2, 'g': 2, 'a': 2, 's': 2, 'l': 1, 'n': 1, 'k': 1, 'o': 1}\"\n",
    "```\n",
    "\n",
    "```\n",
    "Input:  \"Digitaliseringsdirektoratet er regjeringens fremste verktøy for digitalisering av offentlig sektor i Norge\"\n",
    "Output: \"{'e': 14, 'i': 12, 'r': 12, 't': 9, 'g': 8, 's': 6, 'n': 6, 'o': 5, 'a': 4, 'f': 4, 'd': 3, 'l': 3, 'k': 3, 'v': 2, 'j': 1, 'm': 1, 'ø': 1, 'y': 1}\"\n",
    "```"
   ]
  },
  {
   "cell_type": "code",
   "execution_count": 2,
   "metadata": {},
   "outputs": [],
   "source": [
    "# Write your code here:\n"
   ]
  },
  {
   "cell_type": "markdown",
   "metadata": {},
   "source": [
    "---\n",
    "## Exercise 7 (Hard)\n",
    "\n",
    "Create a pyGuesser game where the goal of the game is to guess the number your computer has chosen:\n",
    "\n",
    "```\n",
    "## Example of the complete program: \n",
    "---------------------------------------------------------\n",
    "| WELCOME to a game of pyGuesser! The rules are simple: |\n",
    "| 1. I have already chosen a number                     |\n",
    "| 2. You have to guess it!                              |\n",
    "| That's it! Good luck!                                 |\n",
    "---------------------------------------------------------\n",
    "Guess a number: 69\n",
    "Lower: 30\n",
    "Higher: 60\n",
    "Lower: 45\n",
    "Lower: 39\n",
    "CORRECT!! My number was 39, and you guessed it after 5 attempt(s)\n",
    "Do you wanna play again? (y/n): y\n",
    "---------------------------------------------------------\n",
    "Guess a number: 50\n",
    "Higher: 87\n",
    "CORRECT!! My number was 87, and you guessed it after 2 attempt(s)\n",
    "Do you wanna play again? (y/n): n\n",
    "That's fine, hope to see you again soon!\n",
    "```"
   ]
  },
  {
   "cell_type": "code",
   "execution_count": 14,
   "metadata": {},
   "outputs": [],
   "source": [
    "# Write your code here:\n"
   ]
  },
  {
   "cell_type": "markdown",
   "metadata": {},
   "source": [
    "---\n",
    "## Exercise 8\n",
    "\n",
    "Create a Python program that takes in a name and the current age of the user, and returns which year the user will turn 100 years old:\n",
    "\n",
    "\n",
    "```\n",
    "## Example of the complete program:\n",
    "Name: Magnus\n",
    "Current age: 28\n",
    "\n",
    "Hello Magnus! You will turn 100 years old in 2092 ;) \n",
    "```\n",
    "\n",
    "*When you are done, evaluate if your code will run with the same result in 1 year*"
   ]
  },
  {
   "cell_type": "code",
   "execution_count": 12,
   "metadata": {},
   "outputs": [],
   "source": [
    "# Write your code here:\n"
   ]
  },
  {
   "cell_type": "markdown",
   "metadata": {},
   "source": [
    "## Exercise 9\n",
    "\n",
    "Use the `requests`-library to find all the different car manufacturers listed at the following API: https://private-anon-8f92219e4b-carsapi1.apiary-mock.com/manufacturers\n",
    "\n",
    "The result should be sorted by name."
   ]
  },
  {
   "cell_type": "code",
   "execution_count": 52,
   "metadata": {},
   "outputs": [],
   "source": [
    "# Write your code here:\n"
   ]
  },
  {
   "cell_type": "markdown",
   "metadata": {},
   "source": [
    "---\n",
    "## Exercise 10\n",
    "\n",
    "Use the `requests`-library to find the average hoursepower and the average price of a `mercedes-benz` at the following API: https://private-anon-8f92219e4b-carsapi1.apiary-mock.com/manufacturers"
   ]
  },
  {
   "cell_type": "code",
   "execution_count": 79,
   "metadata": {},
   "outputs": [],
   "source": [
    "# Write your code here:\n"
   ]
  },
  {
   "cell_type": "markdown",
   "metadata": {},
   "source": [
    "---\n",
    "## Exercise 11\n",
    "\n",
    "Use the `requests`-library to list all models manufactured by `mercedes-benz` at the following API: https://private-anon-8f92219e4b-carsapi1.apiary-mock.com/cars\n",
    "\n",
    "The result should be sorted in an ascending order."
   ]
  },
  {
   "cell_type": "code",
   "execution_count": 79,
   "metadata": {},
   "outputs": [],
   "source": [
    "# Write your code here:\n"
   ]
  },
  {
   "cell_type": "markdown",
   "metadata": {},
   "source": [
    "---\n",
    "## Exercise 12\n",
    "\n",
    "Create a Python game where you can challenge the computer to a game of \"Rock, Paper, Sissor\":\n",
    "\n",
    "```\n",
    "## Example of the complete program:\n",
    "-------------------------------------------------------\n",
    "| rOCk, pAPEr, scISSOrs! Here are the rules:          |\n",
    "| 1. Rock beats Sissors                               |\n",
    "| 2. Paper beats Rock                                 |\n",
    "| 3. Scissor beats Paper                              |\n",
    "| 4. Same choice, nobody wins, we go again            |\n",
    "| Good luck!                                          |\n",
    "-------------------------------------------------------\n",
    "-------------------------------------------------------\n",
    "Press '1' to select 'Rock'.\n",
    "Press '2' to select 'Paper'.\n",
    "Press '3' to select 'Scissor'\n",
    "\n",
    "Enter YOUR choice: 1\n",
    "\n",
    "Rock beats Sissors\n",
    "YOU WIN!! \n",
    "\n",
    "Do you wanna play again? (y/n): n\n",
    "\n",
    "Goodbye :(\n",
    "```"
   ]
  },
  {
   "cell_type": "code",
   "execution_count": 13,
   "metadata": {},
   "outputs": [],
   "source": [
    "# Write your code here:\n"
   ]
  },
  {
   "cell_type": "markdown",
   "metadata": {},
   "source": [
    "---\n",
    "## Exercise 13 (Hard)\n",
    "\n",
    "Create a simple TCP-server using the `socket` library where the aim is for a client to post a message to the server, and the server is to respond with the same message back to the client. You have to implement both the client and the server logic.\n",
    "\n",
    "---"
   ]
  }
 ],
 "metadata": {
  "kernelspec": {
   "display_name": "Python 3",
   "language": "python",
   "name": "python3"
  },
  "language_info": {
   "codemirror_mode": {
    "name": "ipython",
    "version": 3
   },
   "file_extension": ".py",
   "mimetype": "text/x-python",
   "name": "python",
   "nbconvert_exporter": "python",
   "pygments_lexer": "ipython3",
   "version": "3.7.2"
  }
 },
 "nbformat": 4,
 "nbformat_minor": 4
}
