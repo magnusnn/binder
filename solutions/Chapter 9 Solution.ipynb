{
 "cells": [
  {
   "cell_type": "markdown",
   "metadata": {},
   "source": [
    "## Solution\n",
    "\n",
    "The following code is the content of **pig_say.py**."
   ]
  },
  {
   "cell_type": "raw",
   "metadata": {},
   "source": [
    "def pig_say(text):\n",
    "    \"\"\"Generate a picture of a pig saying something\"\"\"\n",
    "    text_length = len(text)\n",
    "    print(' {}'.format('_' * text_length))\n",
    "    print(' < {} >'.format(text))\n",
    "    print(' {}'.format('-' * text_length))\n",
    "    print('       /')\n",
    "    print(' ^..^ /')\n",
    "    print('~( ( oo )')\n",
    "    print(' ,, ,,')\n",
    "\n",
    "def main():\n",
    "    text = input('What would you like the pig to say? ')\n",
    "    pig_say(text)\n",
    "\n",
    "if __name__ == '__main__':\n",
    " main()"
   ]
  },
  {
   "cell_type": "markdown",
   "metadata": {},
   "source": [
    "The following code is the content of **pig_talk.py**."
   ]
  },
  {
   "cell_type": "code",
   "execution_count": null,
   "metadata": {},
   "outputs": [],
   "source": [
    "import pig_say\n",
    "\n",
    "def main():\n",
    "    pig_say.pig_say('Feed me.')\n",
    "    pig_say.pig_say('Oink. Oink.')\n",
    "\n",
    "    \n",
    "if __name__ == '__main__':\n",
    "    main()"
   ]
  },
  {
   "cell_type": "code",
   "execution_count": null,
   "metadata": {},
   "outputs": [],
   "source": []
  }
 ],
 "metadata": {
  "kernelspec": {
   "display_name": "Python 2",
   "language": "python",
   "name": "python2"
  },
  "language_info": {
   "codemirror_mode": {
    "name": "ipython",
    "version": 2
   },
   "file_extension": ".py",
   "mimetype": "text/x-python",
   "name": "python",
   "nbconvert_exporter": "python",
   "pygments_lexer": "ipython2",
   "version": "2.7.17"
  }
 },
 "nbformat": 4,
 "nbformat_minor": 2
}
