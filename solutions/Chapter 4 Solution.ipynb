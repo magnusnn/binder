{
 "cells": [
  {
   "cell_type": "markdown",
   "metadata": {},
   "source": [
    "# Chapter 4 - Solution"
   ]
  },
  {
   "cell_type": "markdown",
   "metadata": {},
   "source": [
    "## Fill in the Blank Word Game"
   ]
  },
  {
   "cell_type": "code",
   "execution_count": null,
   "metadata": {},
   "outputs": [],
   "source": [
    "def get_word(word_class):\n",
    "    \"\"\"Get a word from standard input and return that word.\"\"\" \n",
    "    if word_class.lower() == 'adjective':\n",
    "        article = 'an' \n",
    "    else:\n",
    "        article = 'a'\n",
    "    return input('Enter a word that is {0} {1}: '.format(article, word_class))\n",
    "\n",
    "def fill_in_the_blanks(noun, verb, adjective):\n",
    "    \"\"\"Fills in the blanks and returns a completed story.\"\"\"\n",
    "    story = \"I never knew anyone that hadn't {1} at least once in their life, except for {2}, old Aunt Polly. She never {1}, not even when that {0} came to town.\".format(noun, verb, adjective)\n",
    "    return story\n",
    "\n",
    "def print_story(story):\n",
    "    \"\"\"Prints a story.\"\"\"\n",
    "    print()\n",
    "    print('Here is the story you made. Enjoy!')\n",
    "    print()\n",
    "    print(story)\n",
    "\n",
    "def create_story():\n",
    "    \"\"\"Creates a story by collecting the input and printing a finished story.\"\"\"\n",
    "    noun = get_word('noun')\n",
    "    verb = get_word('verb')\n",
    "    adjective = get_word('adjective')\n",
    "    \n",
    "    the_story = fill_in_the_blanks(noun, verb, adjective)\n",
    "    \n",
    "    print_story(the_story)\n",
    "\n",
    "create_story()"
   ]
  },
  {
   "cell_type": "code",
   "execution_count": null,
   "metadata": {},
   "outputs": [],
   "source": []
  }
 ],
 "metadata": {
  "kernelspec": {
   "display_name": "Python 2",
   "language": "python",
   "name": "python2"
  },
  "language_info": {
   "codemirror_mode": {
    "name": "ipython",
    "version": 2
   },
   "file_extension": ".py",
   "mimetype": "text/x-python",
   "name": "python",
   "nbconvert_exporter": "python",
   "pygments_lexer": "ipython2",
   "version": "2.7.17"
  }
 },
 "nbformat": 4,
 "nbformat_minor": 4
}
