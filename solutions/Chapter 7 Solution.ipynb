{
 "cells": [
  {
   "cell_type": "markdown",
   "metadata": {},
   "source": [
    "## Solution"
   ]
  },
  {
   "cell_type": "code",
   "execution_count": 1,
   "metadata": {},
   "outputs": [
    {
     "name": "stdout",
     "output_type": "stream",
     "text": [
      "The ZIP code for Short Hills, NJ is 07078.\n",
      "The ZIP code for Fairfax Station, VA is 22039.\n",
      "The ZIP code for Weston, CT is 06883.\n",
      "The ZIP code for Great Falls, VA is 22066.\n"
     ]
    }
   ],
   "source": [
    "cities = [\n",
    " ('Short Hills, NJ', '07078'),\n",
    " ('Fairfax Station, VA', '22039'),\n",
    " ('Weston, CT', '06883'),\n",
    " ('Great Falls, VA', '22066')\n",
    "]\n",
    "\n",
    "for (city, zip_code) in cities:\n",
    "    print('The ZIP code for {} is {}.'.format(city, zip_code))"
   ]
  }
 ],
 "metadata": {
  "kernelspec": {
   "display_name": "Python 2",
   "language": "python",
   "name": "python2"
  },
  "language_info": {
   "codemirror_mode": {
    "name": "ipython",
    "version": 2
   },
   "file_extension": ".py",
   "mimetype": "text/x-python",
   "name": "python",
   "nbconvert_exporter": "python",
   "pygments_lexer": "ipython2",
   "version": "2.7.17"
  }
 },
 "nbformat": 4,
 "nbformat_minor": 2
}
