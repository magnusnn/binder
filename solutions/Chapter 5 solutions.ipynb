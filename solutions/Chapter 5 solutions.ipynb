{
 "cells": [
  {
   "cell_type": "markdown",
   "metadata": {},
   "source": [
    "## Solution"
   ]
  },
  {
   "cell_type": "code",
   "execution_count": null,
   "metadata": {},
   "outputs": [],
   "source": [
    "# Create a list to hold the grocery items.\n",
    "grocery_list = []\n",
    "\n",
    "finished = False\n",
    "\n",
    "while not finished:\n",
    "    item = input('Enter an item for your grocery list. Press <ENTER> when done:')\n",
    "    if len(item) == 0:\n",
    "        finished = True\n",
    "    else:\n",
    "        grocery_list.append(item)\n",
    "        print('Item added.')\n",
    "\n",
    "# Display the grocery list.\n",
    "\n",
    "#Print()\n",
    "\n",
    "print('Your Grocery List:')\n",
    "\n",
    "print('-' * 18)\n",
    "\n",
    "for item in grocery_list:\n",
    "    print(item)"
   ]
  },
  {
   "cell_type": "code",
   "execution_count": null,
   "metadata": {},
   "outputs": [],
   "source": []
  },
  {
   "cell_type": "code",
   "execution_count": null,
   "metadata": {},
   "outputs": [],
   "source": []
  }
 ],
 "metadata": {
  "kernelspec": {
   "display_name": "Python 2",
   "language": "python",
   "name": "python2"
  },
  "language_info": {
   "codemirror_mode": {
    "name": "ipython",
    "version": 2
   },
   "file_extension": ".py",
   "mimetype": "text/x-python",
   "name": "python",
   "nbconvert_exporter": "python",
   "pygments_lexer": "ipython2",
   "version": "2.7.17"
  }
 },
 "nbformat": 4,
 "nbformat_minor": 2
}
