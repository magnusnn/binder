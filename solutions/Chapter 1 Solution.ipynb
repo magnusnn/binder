{
 "cells": [
  {
   "cell_type": "markdown",
   "metadata": {},
   "source": [
    "# Chapter 1 - Solution"
   ]
  },
  {
   "cell_type": "markdown",
   "metadata": {},
   "source": [
    "## Animal, Vegetable, Mineral"
   ]
  },
  {
   "cell_type": "code",
   "execution_count": null,
   "metadata": {},
   "outputs": [],
   "source": [
    "animal = 'deer'\n",
    "vegetable = 'spinach'\n",
    "mineral = 'aluminum'\n",
    "\n",
    "print('Here is an animal, a vegetable, and a mineral.')\n",
    "print(animal)\n",
    "print(vegetable)\n",
    "print(mineral)"
   ]
  },
  {
   "cell_type": "markdown",
   "metadata": {},
   "source": [
    "## Copy Cat"
   ]
  },
  {
   "cell_type": "code",
   "execution_count": null,
   "metadata": {},
   "outputs": [],
   "source": [
    "user_input = input('Please type something and press enter: ')\n",
    "print('You entered:')\n",
    "print(user_input)"
   ]
  },
  {
   "cell_type": "markdown",
   "metadata": {},
   "source": [
    "## Pig Speak"
   ]
  },
  {
   "cell_type": "code",
   "execution_count": null,
   "metadata": {},
   "outputs": [],
   "source": [
    "text = input('What would you like the pig to say? ')\n",
    "text_length = len(text)\n",
    "print('             {}'.format('_' * text_length))\n",
    "print('           < {} >'.format(text))\n",
    "print('             {}'.format('-' * text_length))\n",
    "print('           /')\n",
    "print('     ^..^ /')\n",
    "print('~(  ( oo )') \n",
    "print('   ,, ,,')"
   ]
  }
 ],
 "metadata": {
  "kernelspec": {
   "display_name": "Python 2",
   "language": "python",
   "name": "python2"
  },
  "language_info": {
   "codemirror_mode": {
    "name": "ipython",
    "version": 2
   },
   "file_extension": ".py",
   "mimetype": "text/x-python",
   "name": "python",
   "nbconvert_exporter": "python",
   "pygments_lexer": "ipython2",
   "version": "2.7.17"
  }
 },
 "nbformat": 4,
 "nbformat_minor": 4
}
