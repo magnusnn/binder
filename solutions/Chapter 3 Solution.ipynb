{
 "cells": [
  {
   "cell_type": "markdown",
   "metadata": {},
   "source": [
    "# Chapter 3 - Solution"
   ]
  },
  {
   "cell_type": "markdown",
   "metadata": {},
   "source": [
    "## Walk, Drive, or Fly"
   ]
  },
  {
   "cell_type": "code",
   "execution_count": null,
   "metadata": {},
   "outputs": [],
   "source": [
    "# Ask for the distance.\n",
    "distance = input('What distance are you traveling in miles? ')\n",
    "\n",
    "# Convert the distance into an integer.\n",
    "distance = int(distance)\n",
    "\n",
    "# Determine what transportation to use.\n",
    "if distance < 3:\n",
    "    transportation = 'walking'\n",
    "elif distance < 300:\n",
    "    transportation = 'driving'\n",
    "else:\n",
    "    transportation = 'flying'\n",
    "\n",
    "    \n",
    "# Display the result.\n",
    "print('I suggest {} to your destination.'.format(transportation))"
   ]
  }
 ],
 "metadata": {
  "kernelspec": {
   "display_name": "Python 2",
   "language": "python",
   "name": "python2"
  },
  "language_info": {
   "codemirror_mode": {
    "name": "ipython",
    "version": 2
   },
   "file_extension": ".py",
   "mimetype": "text/x-python",
   "name": "python",
   "nbconvert_exporter": "python",
   "pygments_lexer": "ipython2",
   "version": "2.7.17"
  }
 },
 "nbformat": 4,
 "nbformat_minor": 4
}
