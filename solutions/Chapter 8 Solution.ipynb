{
 "cells": [
  {
   "cell_type": "markdown",
   "metadata": {},
   "source": [
    "## Solution for Line Number"
   ]
  },
  {
   "cell_type": "code",
   "execution_count": null,
   "metadata": {},
   "outputs": [],
   "source": [
    "with open('../Chapters/Extra/file.txt') as file:\n",
    "    line_number = 1\n",
    "    for line in file:\n",
    "        print('{}: {}'.format(line_number, line.rstrip()))\n",
    "        line_number += 1"
   ]
  },
  {
   "cell_type": "markdown",
   "metadata": {},
   "source": [
    "## Solution for Alphabetize"
   ]
  },
  {
   "cell_type": "code",
   "execution_count": null,
   "metadata": {},
   "outputs": [],
   "source": [
    "unsorted_file_name = '../Chapters/Extra/animals.txt'\n",
    "\n",
    "sorted_file_name = 'animals-sorted.txt'\n",
    "\n",
    "animals = []\n",
    "\n",
    "try:\n",
    "    with open(unsorted_file_name) as animals_file:\n",
    "        for line in animals_file:\n",
    "            animals.append(line)\n",
    "    animals.sort()\n",
    "except:\n",
    "     print('Could not open {}.'.format(unsorted_file_name))\n",
    "\n",
    "        \n",
    "try:\n",
    "    with open(sorted_file_name, 'w') as animals_sorted_file:\n",
    "        for animal in animals:\n",
    "            animals_sorted_file.write(animal)\n",
    "except:\n",
    "    print('Could not open {}.'.format(sorted_file_name))"
   ]
  }
 ],
 "metadata": {
  "kernelspec": {
   "display_name": "Python 2",
   "language": "python",
   "name": "python2"
  },
  "language_info": {
   "codemirror_mode": {
    "name": "ipython",
    "version": 2
   },
   "file_extension": ".py",
   "mimetype": "text/x-python",
   "name": "python",
   "nbconvert_exporter": "python",
   "pygments_lexer": "ipython2",
   "version": "2.7.17"
  }
 },
 "nbformat": 4,
 "nbformat_minor": 2
}
