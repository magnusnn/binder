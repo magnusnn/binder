{
 "cells": [
  {
   "cell_type": "markdown",
   "metadata": {},
   "source": [
    "# Chapter 2 - Solution"
   ]
  },
  {
   "cell_type": "markdown",
   "metadata": {},
   "source": [
    "## Calculate the Cost of Cloud Hosting"
   ]
  },
  {
   "cell_type": "code",
   "execution_count": null,
   "metadata": {},
   "outputs": [],
   "source": [
    "# The cost of one server per hour. \n",
    "cost_per_hour = 1.02\n",
    "\n",
    "# Compute the costs for one server. \n",
    "cost_per_day = 24 * cost_per_hour\n",
    "cost_per_month = 30 * cost_per_day\n",
    "\n",
    "# Display the results.\n",
    "print('Cost to operate one server per day is {:.2f} dollars.'.format(cost_per_day))\n",
    "print('Cost to operate one server per month is {:.2f} dollars.'.format(cost_per_month))"
   ]
  },
  {
   "cell_type": "markdown",
   "metadata": {},
   "source": [
    "## Calculate the Cost of Cloud Hosting, Continued"
   ]
  },
  {
   "cell_type": "code",
   "execution_count": null,
   "metadata": {},
   "outputs": [],
   "source": [
    "# The cost of one server per hour. \n",
    "cost_per_hour = 1.02\n",
    "\n",
    "# Compute the costs for one server.\n",
    "cost_per_day = 24 * cost_per_hour\n",
    "cost_per_month = 30 * cost_per_day\n",
    "\n",
    "# Compute the costs for twenty servers\n",
    "cost_per_day_twenty = 20 * cost_per_day\n",
    "cost_per_month_twenty = 20 * cost_per_month\n",
    "\n",
    "# Budgeting\n",
    "budget = 1836\n",
    "operational_days = budget / cost_per_day\n",
    "\n",
    "# Display the results.\n",
    "print('Cost to operate one server per day is {:.2f} dollars.'.format(cost_per_day))\n",
    "print('Cost to operate one server per month is {:.2f} dollars.'.format(cost_per_month))\n",
    "print('Cost to operate twenty servers per day is {:.2f} dollars.'.format(cost_per_day_twenty))\n",
    "print('Cost to operate twenty servers per month is {:.2f} dollars.'.format(cost_per_month_twenty))\n",
    "print('A server can operate on a {0:.2f} dollar budget for {1:.0f} days.'.format(budget, operational_days))"
   ]
  }
 ],
 "metadata": {
  "kernelspec": {
   "display_name": "Python 2",
   "language": "python",
   "name": "python2"
  },
  "language_info": {
   "codemirror_mode": {
    "name": "ipython",
    "version": 2
   },
   "file_extension": ".py",
   "mimetype": "text/x-python",
   "name": "python",
   "nbconvert_exporter": "python",
   "pygments_lexer": "ipython2",
   "version": "2.7.17"
  }
 },
 "nbformat": 4,
 "nbformat_minor": 4
}
