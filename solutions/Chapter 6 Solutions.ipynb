{
 "cells": [
  {
   "cell_type": "markdown",
   "metadata": {},
   "source": [
    "## Solution"
   ]
  },
  {
   "cell_type": "code",
   "execution_count": null,
   "metadata": {},
   "outputs": [],
   "source": [
    "def display_facts(facts):\n",
    "    \"\"\"Displays facts\"\"\"\n",
    "    for fact in facts:\n",
    "        print('{}: {}'.format(fact, facts[fact]))\n",
    "        print()\n",
    "\n",
    "facts = {\n",
    " 'David': 'Was a mascot in college.',\n",
    " 'Jeff': 'Was born in France.',\n",
    " 'Anna': 'Has arachnophobia.'\n",
    "}\n",
    "\n",
    "display_facts(facts)\n",
    "\n",
    "facts['David'] = 'Can juggle.'\n",
    "facts['Dylan'] = 'Has a pet hedgehog.'\n",
    "\n",
    "display_facts(facts)"
   ]
  }
 ],
 "metadata": {
  "kernelspec": {
   "display_name": "Python 2",
   "language": "python",
   "name": "python2"
  },
  "language_info": {
   "codemirror_mode": {
    "name": "ipython",
    "version": 2
   },
   "file_extension": ".py",
   "mimetype": "text/x-python",
   "name": "python",
   "nbconvert_exporter": "python",
   "pygments_lexer": "ipython2",
   "version": "2.7.17"
  }
 },
 "nbformat": 4,
 "nbformat_minor": 2
}
