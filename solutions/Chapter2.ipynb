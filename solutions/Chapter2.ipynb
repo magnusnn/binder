{
 "cells": [
  {
   "cell_type": "markdown",
   "metadata": {},
   "source": [
    "# Chapter 2 - Solution"
   ]
  },
  {
   "cell_type": "markdown",
   "metadata": {},
   "source": [
    "## Calculate the Cost of Cloud Hosting"
   ]
  },
  {
   "cell_type": "code",
   "execution_count": 4,
   "metadata": {},
   "outputs": [
    {
     "name": "stdout",
     "output_type": "stream",
     "text": [
      "Cost to operate one server per day is 24.48 dollars.\n",
      "Cost to operate one server per month is 734.40 dollars.\n"
     ]
    }
   ],
   "source": [
    "# The cost of one server per hour. \n",
    "cost_per_hour = 1.02\n",
    "\n",
    "# Compute the costs for one server. \n",
    "cost_per_day = 24 * cost_per_hour\n",
    "cost_per_month = 30 * cost_per_day\n",
    "\n",
    "# Display the results.\n",
    "print('Cost to operate one server per day is {:.2f} dollars.'.format(cost_per_day))\n",
    "print('Cost to operate one server per month is {:.2f} dollars.'.format(cost_per_month))"
   ]
  },
  {
   "cell_type": "markdown",
   "metadata": {},
   "source": [
    "## Calculate the Cost of Cloud Hosting, Continued"
   ]
  },
  {
   "cell_type": "code",
   "execution_count": 7,
   "metadata": {},
   "outputs": [
    {
     "name": "stdout",
     "output_type": "stream",
     "text": [
      "Cost to operate one server per day is 24.48 dollars.\n",
      "Cost to operate one server per month is 734.40 dollars.\n",
      "Cost to operate twenty servers per day is 489.60 dollars.\n",
      "Cost to operate twenty servers per month is 14688.00 dollars.\n",
      "A server can operate on a 1836.00 dollar budget for 75 days.\n"
     ]
    }
   ],
   "source": [
    "# The cost of one server per hour. \n",
    "cost_per_hour = 1.02\n",
    "\n",
    "# Compute the costs for one server.\n",
    "cost_per_day = 24 * cost_per_hour\n",
    "cost_per_month = 30 * cost_per_day\n",
    "\n",
    "# Compute the costs for twenty servers\n",
    "cost_per_day_twenty = 20 * cost_per_day\n",
    "cost_per_month_twenty = 20 * cost_per_month\n",
    "\n",
    "# Budgeting\n",
    "budget = 1836\n",
    "operational_days = budget / cost_per_day\n",
    "\n",
    "# Display the results.\n",
    "print('Cost to operate one server per day is {:.2f} dollars.'.format(cost_per_day))\n",
    "print('Cost to operate one server per month is {:.2f} dollars.'.format(cost_per_month))\n",
    "print('Cost to operate twenty servers per day is {:.2f} dollars.'.format(cost_per_day_twenty))\n",
    "print('Cost to operate twenty servers per month is {:.2f} dollars.'.format(cost_per_month_twenty))\n",
    "print('A server can operate on a {0:.2f} dollar budget for {1:.0f} days.'.format(budget, operational_days))"
   ]
  }
 ],
 "metadata": {
  "kernelspec": {
   "display_name": "Python 3",
   "language": "python",
   "name": "python3"
  },
  "language_info": {
   "codemirror_mode": {
    "name": "ipython",
    "version": 3
   },
   "file_extension": ".py",
   "mimetype": "text/x-python",
   "name": "python",
   "nbconvert_exporter": "python",
   "pygments_lexer": "ipython3",
   "version": "3.8.0"
  }
 },
 "nbformat": 4,
 "nbformat_minor": 4
}
