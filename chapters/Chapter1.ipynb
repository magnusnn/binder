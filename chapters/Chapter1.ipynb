{
 "cells": [
  {
   "cell_type": "markdown",
   "metadata": {},
   "source": [
    "# Chapter 1 Variables and Strings"
   ]
  },
  {
   "cell_type": "markdown",
   "metadata": {},
   "source": [
    "#### Material based on the Python book in the Succintly series made by Syncfusion"
   ]
  },
  {
   "cell_type": "markdown",
   "metadata": {},
   "source": [
    "## Hello World\n",
    "First of all, you need to write your first code lines running the famous \"Hello, world!\". Change the first_name variable to your name and run the code."
   ]
  },
  {
   "cell_type": "code",
   "execution_count": null,
   "metadata": {},
   "outputs": [],
   "source": [
    "first_name = \"world\"\n",
    "print(\"Hello, \" + first_name + \"!\")"
   ]
  },
  {
   "cell_type": "markdown",
   "metadata": {},
   "source": [
    "## Variables"
   ]
  },
  {
   "cell_type": "markdown",
   "metadata": {},
   "source": [
    "Put quite simply, variables are named storage locations. They can also be described as name-value pairs. It is possible for you to assign values to a variable, and then recall those values by the variable name. To assign a value to a variable, use the equal sign. The pattern is **variable_name = value**."
   ]
  },
  {
   "cell_type": "markdown",
   "metadata": {},
   "source": [
    "In the following example, the value **asparagus** is assigned to the variable called vegetable."
   ]
  },
  {
   "cell_type": "code",
   "execution_count": null,
   "metadata": {},
   "outputs": [],
   "source": [
    "vegetable = 'asparagus'"
   ]
  },
  {
   "cell_type": "markdown",
   "metadata": {},
   "source": [
    "It is possible to change the value of a variable simply by reassigning it. View the following example to see how to reset the value of the **vegetable** variable to the value **onion**."
   ]
  },
  {
   "cell_type": "code",
   "execution_count": null,
   "metadata": {},
   "outputs": [],
   "source": [
    "vegetable = 'onion'"
   ]
  },
  {
   "cell_type": "markdown",
   "metadata": {},
   "source": [
    "Note that there is nothing significant about the variable named vegetable in this example. We could have just as easily used the words food, crop, produce, or almost any other variable name that we could possibly think of. When choosing a variable name, you want to select something that will ultimately represent the data the variable will hold. While you may know what a variable named v represents today, it may not be so fresh in your mind when you return to the code a few months from now. However, if you come across a variable named vegetable, chances are you’ll have a greater understanding of what data it might hold. "
   ]
  },
  {
   "cell_type": "markdown",
   "metadata": {},
   "source": [
    "Keep in mind that variable names are always case sensitive. So, variables Vegetable and vegetable will be two distinct and separate variables. By convention, variables are usually named with all lower case letters, but this is by no means a requirement. While variable names can contain numbers in the body of the name, they must always start with a letter. Another rule to remember is that you cannot use a hyphen (-), plus sign (+), or other various symbols in variable names. You can however use the underscore (_) character."
   ]
  },
  {
   "cell_type": "markdown",
   "metadata": {},
   "source": [
    "The following are some examples of valid variable names."
   ]
  },
  {
   "cell_type": "code",
   "execution_count": null,
   "metadata": {},
   "outputs": [],
   "source": [
    "last3letters = 'XYZ'\n",
    "last_three_letters = 'XYZ'\n",
    "lastThreeLetters = 'XYZ'"
   ]
  },
  {
   "cell_type": "markdown",
   "metadata": {},
   "source": [
    "## Strings"
   ]
  },
  {
   "cell_type": "markdown",
   "metadata": {},
   "source": [
    "A string is utilized to represent text. In the previous examples strings were represented by the text **asparagus, onion, and XYZ**. In Python strings are always surrounded by quotes. Let’s revisit the first example in this chapter when we created a variable named **vegetable** and assigned it the string **asparagus**."
   ]
  },
  {
   "cell_type": "code",
   "execution_count": null,
   "metadata": {},
   "outputs": [],
   "source": [
    "vegetable = 'asparagus'"
   ]
  },
  {
   "cell_type": "markdown",
   "metadata": {},
   "source": [
    "Strings can also be encapsulated by the use of double quotes."
   ]
  },
  {
   "cell_type": "code",
   "execution_count": null,
   "metadata": {},
   "outputs": [],
   "source": [
    "vegetable = \"asparagus\""
   ]
  },
  {
   "cell_type": "markdown",
   "metadata": {},
   "source": [
    "## Using Quotes within Strings"
   ]
  },
  {
   "cell_type": "markdown",
   "metadata": {},
   "source": [
    "It is important to remember that Python requires matching quotation marks for all strings that you enter. Whenever you begin a string definition by using a double quotation mark, Python will interpret the next double quotation mark you enter as the end of that string. The same will be true when using single quotation marks. If you begin a string with a single quotation mark, the next single quotation mark will represent the end of that particular string."
   ]
  },
  {
   "cell_type": "markdown",
   "metadata": {},
   "source": [
    "In instances where you want to include double quotations in a string, make sure to place them inside single quotation marks as in the following example."
   ]
  },
  {
   "cell_type": "code",
   "execution_count": null,
   "metadata": {},
   "outputs": [],
   "source": [
    "sentence = 'He said, \"That asparagus tastes great!\"'"
   ]
  },
  {
   "cell_type": "markdown",
   "metadata": {},
   "source": [
    "If you want to incorporate single quotes in a string, make sure to enclose the entire string in double quotation marks."
   ]
  },
  {
   "cell_type": "code",
   "execution_count": null,
   "metadata": {},
   "outputs": [],
   "source": [
    "sentence = \"That's some great tasting asparagus!\""
   ]
  },
  {
   "cell_type": "markdown",
   "metadata": {},
   "source": [
    "What if you were looking to use both single and double quotes in the same string? At this point you would need to escape the offending quotation character by prepending it with a backslash (\\). The following code listing demonstrates how to escape the following string when making use of double and single quotes. <br>\n",
    "**He said, \"That's some great tasting asparagus!\"**"
   ]
  },
  {
   "cell_type": "code",
   "execution_count": null,
   "metadata": {},
   "outputs": [],
   "source": [
    "sentence_in_double = \"He said, \\\"That's some great tasting asparagus!\\\"\"\n",
    "sentence_in_single = 'He said, \"That\\'s some great tasting asparagus!\"'"
   ]
  },
  {
   "cell_type": "markdown",
   "metadata": {},
   "source": [
    "## Indexing"
   ]
  },
  {
   "cell_type": "markdown",
   "metadata": {},
   "source": [
    "It is important to note that each character in a string will be assigned an index. All string indices are zero based, which means that the first character in any string will have an index of 0, the second character will have an index of 1, and so on."
   ]
  },
  {
   "cell_type": "markdown",
   "metadata": {},
   "source": [
    "String: a s p a r a g u s <br>\n",
    " Index: 0 1 2 3 4 5 6 7 8"
   ]
  },
  {
   "cell_type": "markdown",
   "metadata": {},
   "source": [
    "In order to access the character at a given index, append <b>[N]</b> to a string where <B>N</b> is the index number. The following example creates a variable which is named a and assigns it the character in position 0 of the string **asparagus**. Similarly, a variable of r is created using the character from position 4 of **asparagus**."
   ]
  },
  {
   "cell_type": "code",
   "execution_count": null,
   "metadata": {},
   "outputs": [],
   "source": [
    "a = 'asparagus'[0]\n",
    "r = 'asparagus'[4]"
   ]
  },
  {
   "cell_type": "markdown",
   "metadata": {},
   "source": [
    "Since variables are quite simply names that represent their values, the **[N]** syntax will also work with any other variable. In the following example, **first_char** will be assigned the value a."
   ]
  },
  {
   "cell_type": "code",
   "execution_count": null,
   "metadata": {},
   "outputs": [],
   "source": [
    "vegetable = 'asparagus'\n",
    "first_char = vegetable[0]"
   ]
  },
  {
   "cell_type": "markdown",
   "metadata": {},
   "source": [
    "## Built-in Functions"
   ]
  },
  {
   "cell_type": "markdown",
   "metadata": {},
   "source": [
    "A function is an action-performing section of reusable code. A function will always have a name and will be called, or executed, by that name. Optionally, functions are able to accept arguments as well as return data."
   ]
  },
  {
   "cell_type": "markdown",
   "metadata": {},
   "source": [
    "### The print() Function"
   ]
  },
  {
   "cell_type": "markdown",
   "metadata": {},
   "source": [
    "The **print()** function is just one of Python’s many built-in functions. Any time a value is provided as an argument to the **print()** function, it will display that value to the screen. You can supply literal values like <b>\"cat\"</b> or <b>7</b> to the **print** statement or opt to pass in variables."
   ]
  },
  {
   "cell_type": "code",
   "execution_count": null,
   "metadata": {},
   "outputs": [],
   "source": [
    "vegetable = 'asparagus'\n",
    "print(vegetable)\n",
    "print('onion')"
   ]
  },
  {
   "cell_type": "markdown",
   "metadata": {},
   "source": [
    "### Write some code\n",
    "Try writing some code on your own! Create a variable called **sport** and set it equal to your favorite sport and then try using the **print()** function to display the content"
   ]
  },
  {
   "cell_type": "code",
   "execution_count": null,
   "metadata": {},
   "outputs": [],
   "source": [
    "# Write your code here\n"
   ]
  },
  {
   "cell_type": "markdown",
   "metadata": {},
   "source": [
    "### The len() Function"
   ]
  },
  {
   "cell_type": "markdown",
   "metadata": {},
   "source": [
    "Another useful built-in Python function is the **len()** function. When a string is passed as an argument to the **len()** function, it returns the length of that string. Put more simply, **len()** returns the number of characters in a string."
   ]
  },
  {
   "cell_type": "markdown",
   "metadata": {},
   "source": [
    "In the following example the value **asparagus** is assigned to the variable named **vegetable**. From there we assign the result of **len(vegetable)** to the **vegetable_len** variable. Finally we display that value to the screen by making use of the **print(vegetable_len)** function."
   ]
  },
  {
   "cell_type": "code",
   "execution_count": null,
   "metadata": {},
   "outputs": [],
   "source": [
    "vegetable = 'asparagus' \n",
    "vegetable_len = len(vegetable)\n",
    "print(vegetable_len)"
   ]
  },
  {
   "cell_type": "markdown",
   "metadata": {},
   "source": [
    "You can also skip the intermediary step of assigning it to a variable and pass the **len()** function directly to the **print()** function. This works because len(vegetable) is evaluated first, and from there its value is used by the **print()** function."
   ]
  },
  {
   "cell_type": "code",
   "execution_count": null,
   "metadata": {},
   "outputs": [],
   "source": [
    "vegetable = 'asparagus'\n",
    "print(len(vegetable))"
   ]
  },
  {
   "cell_type": "markdown",
   "metadata": {},
   "source": [
    "If you’re so inclined you can even skip using variables all together."
   ]
  },
  {
   "cell_type": "code",
   "execution_count": null,
   "metadata": {},
   "outputs": [],
   "source": [
    "print(len('asparagus'))"
   ]
  },
  {
   "cell_type": "markdown",
   "metadata": {},
   "source": [
    "## String Methods"
   ]
  },
  {
   "cell_type": "markdown",
   "metadata": {},
   "source": [
    "Without delving too deeply into the subject of object-oriented programming (OOP), it can be helpful to understand a few key concepts before continuing. One of the first things you should know is that absolutely everything in Python is an object. In turn, every object has a type. Though you are currently learning about the string data type, we will cover various other types throughout the course of this book."
   ]
  },
  {
   "cell_type": "markdown",
   "metadata": {},
   "source": [
    "For now let’s focus our attention on strings. For example, **'asparagus'** is an object with a type of **str**, which is short for string. Simply put, **'asparagus'** is a string object. If we assign the value **asparagus** to the variable **vegetable** using **vegetable = 'asparagus'**, then **vegetable** is also a string object. Keep in mind that variables are names that represent their values."
   ]
  },
  {
   "cell_type": "markdown",
   "metadata": {},
   "source": [
    "As mentioned previously, a function is a section of reusable code that will perform an action. Up to this point you have been using built-in functions like **print()** and **len()**. Objects also have functions, but they are not usually described as such. In fact, they are called methods. Methods are merely functions that are run against an object. In order to call a method on an object, simply follow the object with a period, then the method name, and finally a set of parentheses. Make sure to enclose any parameters within the parentheses."
   ]
  },
  {
   "cell_type": "markdown",
   "metadata": {},
   "source": [
    "### The lower() String Method"
   ]
  },
  {
   "cell_type": "markdown",
   "metadata": {},
   "source": [
    "The **lower()** method of a string object will return a copy of the string in all lowercase letters."
   ]
  },
  {
   "cell_type": "code",
   "execution_count": null,
   "metadata": {},
   "outputs": [],
   "source": [
    "vegetable = 'Asparagus'\n",
    "print(vegetable.lower())"
   ]
  },
  {
   "cell_type": "markdown",
   "metadata": {},
   "source": [
    "### The upper() String Method"
   ]
  },
  {
   "cell_type": "markdown",
   "metadata": {},
   "source": [
    "Conversely, the **upper()** string method will return a copy of the string in all uppercase letters."
   ]
  },
  {
   "cell_type": "code",
   "execution_count": null,
   "metadata": {},
   "outputs": [],
   "source": [
    "vegetable = 'Asparagus'\n",
    "print(vegetable.upper())"
   ]
  },
  {
   "cell_type": "markdown",
   "metadata": {},
   "source": [
    "## String Concatenation"
   ]
  },
  {
   "cell_type": "markdown",
   "metadata": {},
   "source": [
    "To concatenate, or combine two strings, use the plus sign. A simple way of thinking about this is imagining that you were adding strings together. You can concatenate multiple strings by using additional plus signs and strings. In the following example take note of how spaces are included in the strings. String concatenation only combines the strings as they are."
   ]
  },
  {
   "cell_type": "code",
   "execution_count": null,
   "metadata": {},
   "outputs": [],
   "source": [
    "print('Python ' + ' is ' + 'fun.')\n",
    "print('Python' + ' is' + ' Python.')"
   ]
  },
  {
   "cell_type": "markdown",
   "metadata": {},
   "source": [
    "If you fail to include extra spaces, it will be reflected in your output, as in the following example."
   ]
  },
  {
   "cell_type": "code",
   "execution_count": null,
   "metadata": {},
   "outputs": [],
   "source": [
    "print('Python' + 'is' + 'fun.')"
   ]
  },
  {
   "cell_type": "markdown",
   "metadata": {},
   "source": [
    "The next example demonstrates string concatenation using variables combined with the space character literal."
   ]
  },
  {
   "cell_type": "code",
   "execution_count": null,
   "metadata": {},
   "outputs": [],
   "source": [
    "first = 'Python'\n",
    "second = 'is'\n",
    "third = 'fun'\n",
    "sentence = first + ' ' + second + ' ' + third + '.'\n",
    "print(sentence)"
   ]
  },
  {
   "cell_type": "markdown",
   "metadata": {},
   "source": [
    "## Repeating Strings"
   ]
  },
  {
   "cell_type": "markdown",
   "metadata": {},
   "source": [
    "It is important to note that whenever you are working with strings, the asterisk is the repetition operator. The pattern is **'string' * number_of_times_to_repeat**. For example, if you want to display a hyphen twelve times, use **'-' * 12**."
   ]
  },
  {
   "cell_type": "code",
   "execution_count": null,
   "metadata": {},
   "outputs": [],
   "source": [
    "print('-' * 12)"
   ]
  },
  {
   "cell_type": "markdown",
   "metadata": {},
   "source": [
    "Keep in mind that you don’t have to use repetition with just single character strings."
   ]
  },
  {
   "cell_type": "code",
   "execution_count": null,
   "metadata": {},
   "outputs": [],
   "source": [
    "good_times = 'fun ' * 3\n",
    "print(good_times)"
   ]
  },
  {
   "cell_type": "markdown",
   "metadata": {},
   "source": [
    "## The str() Function"
   ]
  },
  {
   "cell_type": "markdown",
   "metadata": {},
   "source": [
    "In a later chapter of this book you will learn about numeric data types. For now though, just know that unlike strings, numbers will not be enclosed within quotation marks. To concatenate a string with a number, you must first convert the number to a string with the built-in **str()** function. The **str()** function will turn non-strings, such as numbers, into strings."
   ]
  },
  {
   "cell_type": "code",
   "execution_count": null,
   "metadata": {},
   "outputs": [],
   "source": [
    "version = 3\n",
    "print('Python ' + str(version) + ' is fun.')"
   ]
  },
  {
   "cell_type": "markdown",
   "metadata": {},
   "source": [
    "The following example shows you what will happen if a number is not converted to a string before you attempt concatenation."
   ]
  },
  {
   "cell_type": "code",
   "execution_count": null,
   "metadata": {},
   "outputs": [],
   "source": [
    "version = 3\n",
    "print('Python ' + version + ' is fun.')"
   ]
  },
  {
   "cell_type": "markdown",
   "metadata": {},
   "source": [
    "## Formatting Strings"
   ]
  },
  {
   "cell_type": "markdown",
   "metadata": {},
   "source": [
    "Calling the **format()** method on a string to produce the format you desire is an alternative to directly concatenating strings. Do this by creating placeholders, also known as format fields, by using curly braces in the string and passing in values for those fields to **format()**. <br> <br>\n",
    "By default the first pair of curly braces will always be replaced by the first value passed to **format()**. The second pair of curly braces will be replaced by the second value passed to **format()**, and so on. The following example illustrates this."
   ]
  },
  {
   "cell_type": "code",
   "execution_count": null,
   "metadata": {},
   "outputs": [],
   "source": [
    "print('Python {} fun.'.format('is'))\n",
    "print('{} {} {}'.format('Python', 'is', 'fun.'))"
   ]
  },
  {
   "cell_type": "markdown",
   "metadata": {},
   "source": [
    "Be sure to note that when you pass multiple objects to a function or method you must separate them using a comma."
   ]
  },
  {
   "cell_type": "markdown",
   "metadata": {},
   "source": [
    "Also, you can implicitly state which positional parameter will be used for a format field simply by providing a number inside the braces. **{0}** will be replaced with the first item passed to **format(), {1}** will be replaced by the second item passed in, and so on."
   ]
  },
  {
   "cell_type": "code",
   "execution_count": null,
   "metadata": {},
   "outputs": [],
   "source": [
    "print('Python {0} {1} and {1} {0} awesome!'.format('is', 'fun'))"
   ]
  },
  {
   "cell_type": "markdown",
   "metadata": {},
   "source": [
    "The following formatting example makes use of variables."
   ]
  },
  {
   "cell_type": "code",
   "execution_count": null,
   "metadata": {},
   "outputs": [],
   "source": [
    "first = 'Python'\n",
    "second = 'is'\n",
    "third = 'fun'\n",
    "print('{} {} {}.'.format(first, second, third))"
   ]
  },
  {
   "cell_type": "markdown",
   "metadata": {},
   "source": [
    "With what we’ve learned we can now rewrite our previous example combining strings and numbers by using the **format()** method. This completely eliminates the need to use the **str()** function."
   ]
  },
  {
   "cell_type": "code",
   "execution_count": null,
   "metadata": {},
   "outputs": [],
   "source": [
    "version = 3\n",
    "print('Python {} is fun.'.format(version))"
   ]
  },
  {
   "cell_type": "markdown",
   "metadata": {},
   "source": [
    "When needed, you can also supply a format specification. Format specifications will be confined within the curly braces. To create a field with a minimum character width, simply supply a number after the colon. The format field **{0:9}** will translate to “use the first value provided to **format()** and make it at least nine characters wide.” The format field **{1:8}** means “use the second value provided to **format()** and make it at least eight characters wide.” This method can be useful in many instances, including the creation of tables."
   ]
  },
  {
   "cell_type": "code",
   "execution_count": null,
   "metadata": {},
   "outputs": [],
   "source": [
    "print('{0:9} | {1:8}'.format('Vegetable', 'Quantity'))\n",
    "print('{0:9} | {1:8}'.format('Asparagus', 3))\n",
    "print('{0:9} | {1:8}'.format('Onions', 10))"
   ]
  },
  {
   "cell_type": "markdown",
   "metadata": {},
   "source": [
    "In order to control the alignment, always use < for left, ^ for center, and > for right. If no particular alignment is specified, left alignment will always be assumed. Making use of our previous example, let’s try to left align the numbers."
   ]
  },
  {
   "cell_type": "code",
   "execution_count": null,
   "metadata": {},
   "outputs": [],
   "source": [
    "print('{0:9} | {1:<8}'.format('Vegetable', 'Quantity'))\n",
    "print('{0:9} | {1:<8}'.format('Asparagus', 3))\n",
    "print('{0:9} | {1:<8}'.format('Onions', 10))"
   ]
  },
  {
   "cell_type": "markdown",
   "metadata": {},
   "source": [
    "If needed, you can also specify a data type. The most common instance of this is to use f which will represent a float. Floats, or floating point numbers, will be addressed in depth in the following chapter. Also, you can stipulate the number of decimal places by using <b>.Nf</b> where <b>N</b> is the number of decimal places. A common currency format would be <b>.2f</b> which specifies two decimal places. The following is an idea of what our table might look like once we’ve taken a few nibbles out of our asparagus."
   ]
  },
  {
   "cell_type": "code",
   "execution_count": null,
   "metadata": {},
   "outputs": [],
   "source": [
    "print('{0:8} | {1:<8}'.format('Vegetable', 'Quantity'))\n",
    "print('{0:9} | {1:<8.2f}'.format('Asparagus', 2.33333))\n",
    "print('{0:9} | {1:<8.2f}'.format('Onions', 10))"
   ]
  },
  {
   "cell_type": "markdown",
   "metadata": {},
   "source": [
    "### Write some code agian\n",
    "Not lets try to put things together. \n",
    "1. display the content of the variable to the screen\n",
    "2. display the length of the variable\n",
    "3. Display the content i only upper characters\n",
    "4. Use **format()** method to display 'content' is the best TV show!"
   ]
  },
  {
   "cell_type": "code",
   "execution_count": null,
   "metadata": {},
   "outputs": [],
   "source": [
    "# Write your code here\n",
    "best_tv_show = 'Doctor Who'\n"
   ]
  },
  {
   "cell_type": "markdown",
   "metadata": {},
   "source": [
    "## Getting User Input"
   ]
  },
  {
   "cell_type": "markdown",
   "metadata": {},
   "source": [
    "To accept standard input use the built-in function **input()**. By default, standard input originates from a person typing at a keyboard. This will allow you to prompt the user directly for their input. In more complex cases standard input can come from other sources. For example, you are able to send the output from one command as the standard input to another command just by using pipes. (For more info on this topic refer to Linux for Beginners at http://www.linuxtrainingacademy.com/linux.)"
   ]
  },
  {
   "cell_type": "markdown",
   "metadata": {},
   "source": [
    "Keep in mind that you can pass in a prompt to display to the **input()** function."
   ]
  },
  {
   "cell_type": "code",
   "execution_count": null,
   "metadata": {},
   "outputs": [],
   "source": [
    "vegetable = input('Enter a name of a vegetable: ')\n",
    "print('{} is a lovely vegetable.'.format(vegetable))"
   ]
  },
  {
   "cell_type": "markdown",
   "metadata": {},
   "source": [
    "## Review"
   ]
  },
  {
   "cell_type": "markdown",
   "metadata": {},
   "source": [
    "- Variables are names that store values. <br>\n",
    "- Variable names may contain letters, numbers, and underscores, but must always begin using a letter.  <br>Values can be assigned to variables using the variable_name = value pattern. <br>\n",
    "- Strings are always surrounded by single or double quotation marks. <br>\n",
    "- An index is assigned to each character in a string. <br>\n",
    "- A function is an action performing reusable code. <br>\n",
    "- Built-in functions:<br>\n",
    "     **print()**: Displays values.<br>\n",
    "     **len()**: Returns the length of an item.<br>\n",
    "     **str()**: Returns a string object.<br>\n",
    "     **input()**: Reads a string.<br>\n",
    "\n",
    "- Absolutely everything in Python is an object.<br>\n",
    "- It is possible for objects to have methods.<br>\n",
    "- Methods are functions that will operate on an object. <br>\n",
    "- String methods:<br>\n",
    "    **upper()**: Returns a copy of the string in uppercase.<br>\n",
    "    **lower()**: Returns a copy of the string in lowercase.<br>\n",
    "    **format()**: Returns a formatted version of the string.<br>"
   ]
  },
  {
   "cell_type": "markdown",
   "metadata": {},
   "source": [
    "## Exercises"
   ]
  },
  {
   "cell_type": "markdown",
   "metadata": {},
   "source": [
    "### Animal, Vegetable, Mineral"
   ]
  },
  {
   "cell_type": "markdown",
   "metadata": {},
   "source": [
    "Try to write a Python program that makes use of three variables. The variables you will use in your program will be animal, vegetable, and mineral. Make sure to assign a string value to each one of these independent variables. Your program should be able to display “Here is an animal, a vegetable, and a mineral.” From there, display the value for animal, followed by vegetable, and then finally mineral. Each one of the values should be printed on their own individual line. The output should be four lines in total. Sample output:"
   ]
  },
  {
   "cell_type": "markdown",
   "metadata": {},
   "source": [
    "Here is an animal, a vegetable, and a mineral.<br> \n",
    "Deer<br>\n",
    "spinach<br>\n",
    "aluminum<br>"
   ]
  },
  {
   "cell_type": "code",
   "execution_count": null,
   "metadata": {},
   "outputs": [],
   "source": [
    "# Write your solution here"
   ]
  },
  {
   "cell_type": "markdown",
   "metadata": {},
   "source": [
    "## Copy Cat"
   ]
  },
  {
   "cell_type": "markdown",
   "metadata": {},
   "source": [
    "Try writing a Python program that directly prompts the user for input, and then simply repeats the information the user entered. Sample output:"
   ]
  },
  {
   "cell_type": "markdown",
   "metadata": {},
   "source": [
    "Please type something and press enter: Hello world! <br>\n",
    "You entered:<br>\n",
    "Hello world!"
   ]
  },
  {
   "cell_type": "code",
   "execution_count": null,
   "metadata": {},
   "outputs": [],
   "source": [
    "# Write your solution here"
   ]
  },
  {
   "cell_type": "markdown",
   "metadata": {},
   "source": [
    "### Pig Speak (Extra Exercise)\n"
   ]
  },
  {
   "cell_type": "markdown",
   "metadata": {},
   "source": [
    "Try writing a Python program that will prompt for input and then display a pig “saying” whatever text was provided by the user. Place the input you receive from the user inside a speech bubble. Expand or contract the speech bubble in order to make it fit around the input provided.\n",
    "Sample output:"
   ]
  },
  {
   "cell_type": "raw",
   "metadata": {},
   "source": [
    "Hva vil du at grisen skal si?  Come on!\n",
    "             ________\n",
    "           < Come on! >\n",
    "             --------\n",
    "           /\n",
    "     ^..^ /\n",
    "~(  ( oo )\n",
    "   ,, ,,"
   ]
  },
  {
   "cell_type": "code",
   "execution_count": null,
   "metadata": {},
   "outputs": [],
   "source": [
    "# Write your solution here"
   ]
  },
  {
   "cell_type": "markdown",
   "metadata": {},
   "source": [
    "## Resources"
   ]
  },
  {
   "cell_type": "markdown",
   "metadata": {},
   "source": [
    "- Common String Operations: https://docs.python.org/3/library/string.html <br>\n",
    "- **input()** documentation: https://docs.python.org/3/library/functions.html?highlight=input#input <br>\n",
    "- **len()** documentation: https://docs.python.org/3/library/functions.html?highlight=input#len <br>\n",
    "- **print()** documentation: https://docs.python.org/3/library/functions.html?highlight=input#print <br>\n",
    "- **str()** documentation: https://docs.python.org/3/library/functions.html?highlight=input#func-str <br>"
   ]
  }
 ],
 "metadata": {
  "kernelspec": {
   "display_name": "Python 3",
   "language": "python",
   "name": "python3"
  },
  "language_info": {
   "codemirror_mode": {
    "name": "ipython",
    "version": 3
   },
   "file_extension": ".py",
   "mimetype": "text/x-python",
   "name": "python",
   "nbconvert_exporter": "python",
   "pygments_lexer": "ipython3",
   "version": "3.8.0"
  }
 },
 "nbformat": 4,
 "nbformat_minor": 4
}
