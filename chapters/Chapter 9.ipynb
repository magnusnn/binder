{
 "cells": [
  {
   "cell_type": "markdown",
   "metadata": {},
   "source": [
    "# Chapter 9 Modules\n",
    "\n",
    "## Modules\n",
    "\n",
    "A Python module is a file that has a **.py** extension. These can be used to implement a set of attributes\n",
    "(variables), methods (functions), and classes (types). You can include a module in another Python program simply by using the **import** statement followed by the module name. To import a module named **time**, include **import time** within your Python program. You can now access the methods\n",
    "within the time module by calling **time.method_name()** or attributes, sometimes called variables, by calling **time.attribute_name**. The following code listing is an example using the **asctime()** method and the timezone attribute from the **time** module. The **timezone** attribute includes the number of seconds between UTC and the local time."
   ]
  },
  {
   "cell_type": "code",
   "execution_count": null,
   "metadata": {},
   "outputs": [],
   "source": [
    "import time\n",
    "\n",
    "print(time.asctime())\n",
    "\n",
    "print(time.timezone)"
   ]
  },
  {
   "cell_type": "markdown",
   "metadata": {},
   "source": [
    "Whenever you **import module_name**, all of the methods in that module will be available as **module_name.method_name()**. If you opt to use a single method in a module you can import just that method using the **from module_name import method_name** syntax. Now the method can be accessed in your program by name. Instead of calling **module_name.method_name()**, you can now\n",
    "simply call **method_name()**."
   ]
  },
  {
   "cell_type": "code",
   "execution_count": null,
   "metadata": {},
   "outputs": [],
   "source": [
    "from time import asctime\n",
    "\n",
    "print(asctime())"
   ]
  },
  {
   "cell_type": "markdown",
   "metadata": {},
   "source": [
    "It is possible to do the same thing using module attributes and classes. If you are looking to import\n",
    "more than one item from a module you can create a separate **from module_name import method_name** line for each one. You can also opt to provide a comma separated list like this: **from module_name import method_name1, method_name2, method_nameN**. Let's import the **asctime()** and **sleep()** methods from the **time** module. The **sleep()** method pauses the execution of your program for an allotted number of seconds."
   ]
  },
  {
   "cell_type": "code",
   "execution_count": null,
   "metadata": {},
   "outputs": [],
   "source": [
    "from time import asctime, sleep\n",
    "\n",
    "print(asctime())\n",
    "\n",
    "sleep(5)\n",
    "\n",
    "print(asctime())"
   ]
  },
  {
   "cell_type": "markdown",
   "metadata": {},
   "source": [
    "One of the primary benefits of importing either a single method or list of methods from a module is that\n",
    "you can access it directly by name without having to precede it with the module name. For example,\n",
    "**sleep(5)** versus **time.sleep(5)**. If you want to be able to access everything from a module, you\n",
    "could use an asterisk instead of a list of methods to import. However, this is not a practice I\n",
    "recommend. It is worth mentioning here only because you will see it used from time to time. The main\n",
    "reason it is best to avoid this approach is that you run the risk of overriding an existing function or\n",
    "variable if you import everything into your program. Also, when you import multiple methods using an\n",
    "asterisk, you will find it hard to determine what exactly came from where."
   ]
  },
  {
   "cell_type": "code",
   "execution_count": null,
   "metadata": {},
   "outputs": [],
   "source": [
    "from time import *\n",
    "\n",
    "print(timezone)\n",
    "\n",
    "print(asctime())\n",
    "\n",
    "sleep(5)\n",
    "\n",
    "print(asctime())"
   ]
  },
  {
   "cell_type": "markdown",
   "metadata": {},
   "source": [
    "## Peeking Inside a Module\n",
    "\n",
    "You can use the built-in **dir()** function to discover which attributes, methods, and classes exist within\n",
    "any one module."
   ]
  },
  {
   "cell_type": "raw",
   "metadata": {},
   "source": [
    ">>> import time\n",
    ">>> dir(time)\n",
    "\n",
    "['_STRUCT_TM_ITEMS', '__doc__', '__file__', '__loader__', '__name__',\n",
    "'__package__', '__spec__', 'altzone', 'asctime', 'clock', 'ctime', 'daylight',\n",
    "'get_clock_info', 'gmtime', 'localtime', 'mktime', 'monotonic', 'perf_counter',\n",
    "'process_time', 'sleep', 'strftime', 'strptime', 'struct_time', 'time',\n",
    "'timezone', 'tzname', 'tzset']"
   ]
  },
  {
   "cell_type": "markdown",
   "metadata": {},
   "source": [
    "## The Module Search Path\n",
    "\n",
    "Keep in mind that you can always view the default module search path by examining **sys.path**.\n",
    "Whenever you supply an **import module_name** statement, Python will look for the module in the first\n",
    "path on the list. If Python cannot find it then the next path will be examined and so on. This will continue\n",
    "either until the module is found or until all of the module search paths are completely exhausted. The\n",
    "module search path may include zip files as well as directories. Python will search within the zip file for\n",
    "a matching module as well. It is important to note that the default module search path will vary\n",
    "depending on your installation of Python, the Python version, and the operating system. The following\n",
    "code listing is an example from a Python installation on a Mac."
   ]
  },
  {
   "cell_type": "code",
   "execution_count": null,
   "metadata": {},
   "outputs": [],
   "source": [
    "# show_module_path.py\n",
    "\n",
    "import sys\n",
    "\n",
    "for path in sys.path:\n",
    "    print(path)"
   ]
  },
  {
   "cell_type": "markdown",
   "metadata": {},
   "source": [
    "The **show_module_path.py** file was located in **/Users/david** when I first executed **python3\n",
    "show_module_path.py**. Notice that **/Users/david** is listed first in the module search path. The other\n",
    "directories were decided by the Python installation.\n",
    "\n",
    "If you want to ask Python to search other locations for modules you will need to manipulate the module\n",
    "search path. There are two ways that you can do this. The first method is to modify **sys.path** just as\n",
    "you would any other list. For example, you can append directory locations by using a string data type.\n"
   ]
  },
  {
   "cell_type": "code",
   "execution_count": null,
   "metadata": {},
   "outputs": [],
   "source": [
    "import sys\n",
    "\n",
    "sys.path.append('/Users/david/python')\n",
    "\n",
    "for path in sys.path:\n",
    "    print(path)"
   ]
  },
  {
   "cell_type": "markdown",
   "metadata": {},
   "source": [
    "You are also able to manipulate the **PYTHONPATH** environment variable. This variable acts in a very\n",
    "similar manner to the **PATH** environment variable. On Mac and Linux systems, **PYTHONPATH** can be\n",
    "populated with a list of directories separated by colons. On Windows systems the **PYTHONPATH**\n",
    "environment variable requires the use of a semicolon in order to separate the list of directories. The\n",
    "directories listed in **PYTHONPATH** are inserted after the directory where the script resides and before the\n",
    "default module search path.\n",
    "\n",
    "In the following example, **/Users/david** is the directory where the **show_module_path.py** Python\n",
    "program resides. The /Users/david/python and **/usr/local/python/modules** paths are included in\n",
    "**PYTHONPATH**. The export command makes **PYTHONPATH** available to programs started from the shell."
   ]
  },
  {
   "cell_type": "raw",
   "metadata": {},
   "source": [
    "[david@mac ~]$ export PYTHONPATH=/Users/david/python:/usr/local/python/modules\n",
    "\n",
    "[david@mac ~]$ pwd\n",
    "/Users/david\n",
    "\n",
    "[david@mac ~]$ python3 show_module_path.py\n",
    "/Users/david\n",
    "\n",
    "/Users/david/python\n",
    "\n",
    "/usr/local/python/modules\n",
    "\n",
    "/Library/Frameworks/Python.framework/Versions/3.4/lib/python34.zip\n",
    "\n",
    "/Library/Frameworks/Python.framework/Versions/3.4/lib/python3.4\n",
    "\n",
    "/Library/Frameworks/Python.framework/Versions/3.4/lib/python3.4/plat-darwin\n",
    "\n",
    "/Library/Frameworks/Python.framework/Versions/3.4/lib/python3.4/lib-dynload\n",
    "\n",
    "/Library/Frameworks/Python.framework/Versions/3.4/lib/python3.4/site-packages\n",
    "[david@mac ~]$"
   ]
  },
  {
   "cell_type": "markdown",
   "metadata": {},
   "source": [
    "If you are unable to find a module within the search path, an **ImportError** exception will be raised."
   ]
  },
  {
   "cell_type": "code",
   "execution_count": null,
   "metadata": {},
   "outputs": [],
   "source": [
    "import say_hello"
   ]
  },
  {
   "cell_type": "markdown",
   "metadata": {},
   "source": [
    "## The Python Standard Library\n",
    "\n",
    "As we’ve worked through previous examples, we have been using the time module which comes\n",
    "included with Python. In fact, Python is supplied with a large library of modules for you to take\n",
    "advantage of. I would highly recommend that you take some time to really look at what the Python\n",
    "standard library has to offer before you even think of writing any of your own code. For example, if you\n",
    "are looking to read and write CSV (comma-separated values) files, don’t waste your time creating\n",
    "something from scratch when it already exists. Just use Python's pre-existing csv module. Are you\n",
    "looking to enable logging in your program? Well, there’s a **logging** module which can help you do that.\n",
    "Do you want to make an HTTP request to a web service and then parse the JSON response? Try using\n",
    "the **urllib.request** and **json** modules. To explore these modules and more, check out the list of\n",
    "what is available in the Python Standard Library located at https://docs.python.org/3/library/.\n",
    "\n",
    "Now, let's use the **exit()** method from the **sys** module to cleanly terminate your program if it detects\n",
    "an error. In the following example, the file **test.txt** is opened. If the program encounters an error\n",
    "while the file is opening, the code block following **except:** will execute. If the reading of **test.txt** is mandatory for the remaining code to function correctly, there is no need to continue. The **exit()**\n",
    "method can accept an exit code as an argument. If no exit code is provided, <b>0</b> will be used. By\n",
    "convention, when an error causes a program to exit, a non-zero exit code is expected."
   ]
  },
  {
   "cell_type": "code",
   "execution_count": null,
   "metadata": {},
   "outputs": [],
   "source": [
    "import sys\n",
    "\n",
    "file_name = 'test.txt'\n",
    "\n",
    "try:\n",
    "    with open(file_name) as test_file:\n",
    "        for line in test_file:\n",
    "            print(line)\n",
    "except:\n",
    "    print('Could not open {}.'.format(file_name))\n",
    "    sys.exit(1)"
   ]
  },
  {
   "cell_type": "markdown",
   "metadata": {},
   "source": [
    "## Creating Your Own Modules\n",
    "\n",
    "Just as Python has a library of its own reusable code, so can you. It’s quite simple to create your own\n",
    "module. Just remember that in its least complex form, modules are files that have a **.py** extension.\n",
    "Simply create a Python file with your code and **import** it from another Python program.\n",
    "\n",
    "The following code listing is the content of say_hello.py."
   ]
  },
  {
   "cell_type": "raw",
   "metadata": {},
   "source": [
    "def say_hello():\n",
    "    print('Hello!')"
   ]
  },
  {
   "cell_type": "markdown",
   "metadata": {},
   "source": [
    "Note how you can import and use the **say_hello** module. To call the **say_hello()** method within the\n",
    "**say_hello** module, use **say_hello.say_hello()**."
   ]
  },
  {
   "cell_type": "code",
   "execution_count": null,
   "metadata": {},
   "outputs": [],
   "source": [
    "import say_hello\n",
    "\n",
    "say_hello.say_hello()"
   ]
  },
  {
   "cell_type": "markdown",
   "metadata": {},
   "source": [
    "The following example is another simple module called **say_hello2**. The following code is the body of\n",
    "**say_hello2.py**."
   ]
  },
  {
   "cell_type": "raw",
   "metadata": {},
   "source": [
    "def say_hello():\n",
    "    print('Hello!')\n",
    "\n",
    "print('Hello from say_hello2.py!')"
   ]
  },
  {
   "cell_type": "markdown",
   "metadata": {},
   "source": [
    "Let's find out what happens when you import the **say_hello2** module"
   ]
  },
  {
   "cell_type": "code",
   "execution_count": null,
   "metadata": {},
   "outputs": [],
   "source": [
    "import say_hello2\n",
    "\n",
    "say_hello2.say_hello()"
   ]
  },
  {
   "cell_type": "markdown",
   "metadata": {},
   "source": [
    "So what happened? Well, when **say_hello2** is imported its contents are executed. First, the\n",
    "**say_hello()** function is defined. From there the **print** function is executed. In this way Python\n",
    "enables you to create programs that behave one way when they are executed, and another way when\n",
    "they are imported. If you would like to be able to reuse functions from an existing Python program, but\n",
    "have no desire to execute the main program, you can account for that."
   ]
  },
  {
   "cell_type": "markdown",
   "metadata": {},
   "source": [
    "## Using main\n",
    "\n",
    "Whenever a Python file is executed as a program, the special variable <b>\\_\\_name\\_\\_</b> will be set to\n",
    "<b>\\_\\_main\\_\\_</b>. Notice that there are two underscore characters on each side of the names of these special\n",
    "variables. In instances where it is imported, the <b>\\_\\_name\\_\\_</b> variable will not be populated. Ultimately you\n",
    "can use this to control the behavior of your Python program. The following code sample is the\n",
    "**say_hello3.py** file.\n"
   ]
  },
  {
   "cell_type": "raw",
   "metadata": {},
   "source": [
    "def say_hello():\n",
    "    print('Hello!')\n",
    "\n",
    "def main():\n",
    "    print('Hello from say_hello3.py!')\n",
    "    say_hello()\n",
    "\n",
    "if __name__ == '__main__':\n",
    " main()"
   ]
  },
  {
   "cell_type": "markdown",
   "metadata": {},
   "source": [
    "Whenever it is executed as a program, the code block following **if \\_\\_name\\_\\_ == '\\_\\_main\\_\\_'** will be\n",
    "executed. In the following example it simply calls **main()**. This is a very common pattern and you will\n",
    "see this within many Python applications. When **say_hello3.py** is imported as a module nothing will\n",
    "be executed unless explicitly called from the importing program.\n"
   ]
  },
  {
   "cell_type": "raw",
   "metadata": {},
   "source": [
    "[david@mac ~]$ python3 say_hello3.py\n",
    "\n",
    "Hello from say_hello3.py!\n",
    "\n",
    "Hello!\n",
    "\n",
    "[david@mac ~]$"
   ]
  },
  {
   "cell_type": "markdown",
   "metadata": {},
   "source": [
    "## Review\n",
    "\n",
    "Python modules are files that have a .py extension and are capable of implementing a set of variables,\n",
    "functions, and classes.\n",
    "\n",
    "Use the **import module_name** syntax to import a module.\n",
    "\n",
    "The default module search path will be determined by your Python installation.\n",
    "\n",
    "To manipulate the module search path, modify **sys.path** or set the **PYTHONPATH** environment variable.\n",
    "\n",
    "The Python standard library is a sizeable collection of code that can be reused within your Python\n",
    "programs.\n",
    "\n",
    "Use the **dir()** built-in function to find out exactly what exists within a module.\n",
    "\n",
    "You can establish your own personal library by writing your own modules.\n",
    "\n",
    "You can influence how a Python program behaves based on whether it is run interactively or imported\n",
    "by checking the value of <b>\\_\\_name\\_\\_</b>.\n",
    "\n",
    "The **if \\_\\_name\\_\\_ == '\\_\\_main\\_\\_':** syntax is a common Python idiom."
   ]
  },
  {
   "cell_type": "markdown",
   "metadata": {},
   "source": [
    "## Exercises\n",
    "\n",
    "## Pig Speak, Redux\n",
    "\n",
    "Update the \"Pig Speak\" program we discussed in Chapter 1 so that it can be imported as a module or\n",
    "run directly. When run as a program it should prompt for input, as well as display a pig \"saying\" what\n",
    "was provided by the user. Place the input provided by the user inside a speech bubble. This speech\n",
    "bubble can be expanded or contracted to fit around the input provided by the user.\n",
    "\n",
    "The following code listing shows the sample output when run interactively."
   ]
  },
  {
   "cell_type": "raw",
   "metadata": {},
   "source": [
    "                 ----------------------\n",
    "                 <Pet me and I will oink >\n",
    "                 ----------------------\n",
    "                /\n",
    "          ^..^ /\n",
    "        ~( ( oo )\n",
    "         ,, ,,\n"
   ]
  },
  {
   "cell_type": "markdown",
   "metadata": {},
   "source": [
    "From here, create a new program called **pig_talk.py** that imports the **pig_say** module. Try using a\n",
    "function from the **pig_say()** module to display a variety of messages to the screen.\n",
    "\n",
    "The following code listing shows the sample output when used as a module."
   ]
  },
  {
   "cell_type": "raw",
   "metadata": {},
   "source": [
    "                 ____________\n",
    "                 < Feed me. >\n",
    "                 ------------\n",
    "                 /\n",
    "           ^..^ /\n",
    "         ~( ( oo )\n",
    "           ,, ,,\n",
    "           \n",
    "           \n",
    "                 ____________\n",
    "                 < Oink. Oink. >\n",
    "                 ------------\n",
    "                 /\n",
    "           ^..^ /\n",
    "         ~( ( oo )\n",
    "           ,, ,,\n"
   ]
  }
 ],
 "metadata": {
  "kernelspec": {
   "display_name": "Python 2",
   "language": "python",
   "name": "python2"
  },
  "language_info": {
   "codemirror_mode": {
    "name": "ipython",
    "version": 2
   },
   "file_extension": ".py",
   "mimetype": "text/x-python",
   "name": "python",
   "nbconvert_exporter": "python",
   "pygments_lexer": "ipython2",
   "version": "2.7.17"
  }
 },
 "nbformat": 4,
 "nbformat_minor": 2
}
