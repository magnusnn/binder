{
 "cells": [
  {
   "cell_type": "markdown",
   "metadata": {},
   "source": [
    "# Oppsummering Coding Foundation"
   ]
  },
  {
   "cell_type": "markdown",
   "metadata": {},
   "source": [
    "## Kapittel 1 - Variabler"
   ]
  },
  {
   "cell_type": "code",
   "execution_count": null,
   "metadata": {},
   "outputs": [],
   "source": [
    "variabel_navn = \"tekst\"\n",
    "print(variabel_navn)"
   ]
  },
  {
   "cell_type": "markdown",
   "metadata": {},
   "source": [
    "## Kapittel 2 - Tall, matte og kommentarer"
   ]
  },
  {
   "cell_type": "code",
   "execution_count": null,
   "metadata": {},
   "outputs": [],
   "source": [
    "tall_sum = 1 + 3 # dette er summen av 1 og 3"
   ]
  },
  {
   "cell_type": "markdown",
   "metadata": {},
   "source": [
    "## Kapittel 3 - Sannhetsuttrykk og betingelser"
   ]
  },
  {
   "cell_type": "code",
   "execution_count": null,
   "metadata": {},
   "outputs": [],
   "source": [
    "grader_celcius = 15\n",
    "if grader_celcius >= 15:\n",
    "    print('Det er varmt i dag.')\n",
    "else:\n",
    "    print('Det er ikke varmt i dag')"
   ]
  },
  {
   "cell_type": "markdown",
   "metadata": {},
   "source": [
    "## Kapittel 4 - Funksjoner"
   ]
  },
  {
   "cell_type": "code",
   "execution_count": null,
   "metadata": {},
   "outputs": [],
   "source": [
    "def varm_dag(grader_celcius):\n",
    "    \"\"\"Finn ut om det er en varm dag\"\"\"\n",
    "    if grader_celcius >= 15:\n",
    "        return True\n",
    "    else:\n",
    "        return False\n",
    "\n",
    "print(varm_dag(15))"
   ]
  },
  {
   "cell_type": "markdown",
   "metadata": {},
   "source": [
    "## Kapittel 5 - Lister"
   ]
  },
  {
   "cell_type": "code",
   "execution_count": null,
   "metadata": {},
   "outputs": [],
   "source": [
    "liste_med_grader = [11, 5, 17, 4, 29]\n",
    "\n",
    "for grad in liste_med_grader:\n",
    "    print(varm_dag(grad))"
   ]
  },
  {
   "cell_type": "markdown",
   "metadata": {},
   "source": [
    "## Kappitel 6 - Dictionaries"
   ]
  },
  {
   "cell_type": "code",
   "execution_count": null,
   "metadata": {},
   "outputs": [],
   "source": [
    "rapport={'Oslo': 23, 'Bergen': 9, 'Halden': 30}\n",
    "\n",
    "for by in rapport:\n",
    "    print(\"I {} er det meldt {} grader\".format(by, rapport[by]))"
   ]
  },
  {
   "cell_type": "markdown",
   "metadata": {},
   "source": [
    "## Kapittel 7 - Tuples"
   ]
  },
  {
   "cell_type": "code",
   "execution_count": null,
   "metadata": {},
   "outputs": [],
   "source": [
    "grader_tuple = (11, 5, 17, 4, 29)\n",
    "\n",
    "for grader in grader_tuple:\n",
    "    print(varm_dag(grader))\n",
    "\n",
    "grader_tuple[0] = \"Is\""
   ]
  },
  {
   "cell_type": "markdown",
   "metadata": {},
   "source": [
    "## Kapittel 8 - File I/O"
   ]
  },
  {
   "cell_type": "code",
   "execution_count": null,
   "metadata": {},
   "outputs": [],
   "source": [
    "with open('Extra/file.txt') as the_file:\n",
    "\n",
    "    for line in the_file:\n",
    "        print(line)"
   ]
  },
  {
   "cell_type": "markdown",
   "metadata": {},
   "source": [
    "## Kapittel 9 - Modules"
   ]
  },
  {
   "cell_type": "code",
   "execution_count": null,
   "metadata": {},
   "outputs": [],
   "source": [
    "import best_module\n",
    "\n",
    "dir(best_module)"
   ]
  },
  {
   "cell_type": "code",
   "execution_count": null,
   "metadata": {},
   "outputs": [],
   "source": [
    "best_module.great_function(\"Halden\")\n",
    "best_module.great_function(\"Bergen\")"
   ]
  }
 ],
 "metadata": {
  "kernelspec": {
   "display_name": "Python 2",
   "language": "python",
   "name": "python2"
  },
  "language_info": {
   "codemirror_mode": {
    "name": "ipython",
    "version": 2
   },
   "file_extension": ".py",
   "mimetype": "text/x-python",
   "name": "python",
   "nbconvert_exporter": "python",
   "pygments_lexer": "ipython2",
   "version": "2.7.17"
  }
 },
 "nbformat": 4,
 "nbformat_minor": 4
}
