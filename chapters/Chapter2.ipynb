{
 "cells": [
  {
   "cell_type": "markdown",
   "metadata": {},
   "source": [
    "# Chapter 2 Numbers, Math, and Comments"
   ]
  },
  {
   "cell_type": "markdown",
   "metadata": {},
   "source": [
    "#### Material based on the Python book in the Succintly series made by Syncfusion"
   ]
  },
  {
   "cell_type": "markdown",
   "metadata": {},
   "source": [
    "While we discussed in the previous chapter how to create strings by placing text within quotation marks, it is important to note that numbers in Python require no such special treatment. If you’d like to use a number, simply include it in your source code. If you want to assign a number to a variable, use the pattern **variable_name = number** as shown in the following example."
   ]
  },
  {
   "cell_type": "code",
   "execution_count": null,
   "metadata": {},
   "outputs": [],
   "source": [
    "height = 70\n",
    "temperature = 98.6"
   ]
  },
  {
   "cell_type": "markdown",
   "metadata": {},
   "source": [
    "It is important to note that Python supports both integers and floating point numbers. Integers are numbers without a decimal point, otherwise known as whole numbers. Floating point numbers however will always contain a decimal point. The data type for integers is **int**, while the data type for floating point numbers is **float**.\n"
   ]
  },
  {
   "cell_type": "markdown",
   "metadata": {},
   "source": [
    "## Numeric Operations"
   ]
  },
  {
   "cell_type": "markdown",
   "metadata": {},
   "source": [
    "Keep in mind that the Python interpreter is capable of performing several operations using numbers. The following table lists the most commonly used numeric operations."
   ]
  },
  {
   "cell_type": "markdown",
   "metadata": {},
   "source": [
    "Symbol | Operation\n",
    "--- | ---\n",
    "**+** | add\n",
    "**-** | subtract\n",
    "**\\*** | multiply\n",
    "**/** | divide\n",
    "**\\*\\*** | exponentiate\n",
    "**%** | modulo"
   ]
  },
  {
   "cell_type": "markdown",
   "metadata": {},
   "source": [
    "You are most likely familiar with the common symbols +, -, *, and /. The ** operator represents exponentiation, otherwise known as “raising to the power of.” For example, 2 ** 4 means “2 raised to the power of 4.” The written out equivalent to this is **2 * 2 * 2 * 2**, which will result in an outcome of **16**.\n"
   ]
  },
  {
   "cell_type": "markdown",
   "metadata": {},
   "source": [
    "The modulo operation is performed by the percent sign. Put quite simply, it will return the remainder. For example, <b>3 % 2</b> is <b>1</b> because 3 divided by 2 is 1 with a remainder of 1. <b>4 % 2</b> returns 0 since 4 divided by 2 is 2 with a remainder of 0. In general, modulo arithmetic is done using non-negative integers. Modulo arithmetic with negative numbers can be very tricky. For example, <b>-5 % 4</b> returns <b>3</b>.\n"
   ]
  },
  {
   "cell_type": "markdown",
   "metadata": {},
   "source": [
    "By making use of these symbols, Python allows you to perform mathematical calculations directly within the interpreter."
   ]
  },
  {
   "cell_type": "code",
   "execution_count": null,
   "metadata": {},
   "outputs": [],
   "source": [
    "2 + 3"
   ]
  },
  {
   "cell_type": "markdown",
   "metadata": {},
   "source": [
    "You can also assign the resulting value of a mathematical operation to a variable."
   ]
  },
  {
   "cell_type": "code",
   "execution_count": null,
   "metadata": {},
   "outputs": [],
   "source": [
    "sum = 3 + 2\n",
    "difference = 88 - 2\n",
    "product= 4*2\n",
    "quotient = 16 / 4\n",
    "power = 3 ** 5\n",
    "remainder = 7 % 3\n",
    "\n",
    "print('Sum: {}'.format(sum))\n",
    "print('Difference: {}'.format(difference))\n",
    "print('Product: {}'.format(product))\n",
    "print('Quotient: {}'.format(quotient))\n",
    "print('Power: {}'.format(power))\n",
    "print('Remainder: {}'.format(remainder))"
   ]
  },
  {
   "cell_type": "markdown",
   "metadata": {},
   "source": [
    "Take note that even though the result of <b>16 / 4</b> is the integer <b>4</b>, the floating point number <b>4.0</b> was displayed in the output created using the example above. The division operator (/) performs floating point division, and will in every case return a floating point number and not an integer. Also, be aware that if you add an integer to a floating point number the result will always be a float.<br><br>\n",
    "The following example demonstrates the capability of Python to perform mathematical operations using variables."
   ]
  },
  {
   "cell_type": "code",
   "execution_count": null,
   "metadata": {},
   "outputs": [],
   "source": [
    "sum = 3 + 4\n",
    "difference = 200 - 2\n",
    "new_number = sum + difference\n",
    "print(new_number)\n",
    "print(sum / sum)\n",
    "print(sum + 1)"
   ]
  },
  {
   "cell_type": "markdown",
   "metadata": {},
   "source": [
    "### Write some code\n",
    "Math is fun! So lets try to write some code to sole some math problems.\n",
    "1. Create two variables with two different numbers\n",
    "2. Display the sum of those two variables\n",
    "3. Display the sum multiplied with **16**\n",
    "4. Display the sum divieded by **4**"
   ]
  },
  {
   "cell_type": "code",
   "execution_count": null,
   "metadata": {},
   "outputs": [],
   "source": [
    "# Write your code here\n"
   ]
  },
  {
   "cell_type": "markdown",
   "metadata": {},
   "source": [
    "## Strings and Numbers"
   ]
  },
  {
   "cell_type": "markdown",
   "metadata": {},
   "source": [
    "The following example establishes a variable named **quantity** and assigns it the numeric value 4. It also creates a variable named **quantity_string** and assigns it the string 4."
   ]
  },
  {
   "cell_type": "code",
   "execution_count": null,
   "metadata": {},
   "outputs": [],
   "source": [
    "quantity = 4\n",
    "quantity_string = '4'"
   ]
  },
  {
   "cell_type": "markdown",
   "metadata": {},
   "source": [
    "Keep in mind that if you try to perform a mathematical operation against a string, you will encounter an error. Try to be aware that if you surround a number with quotes it will become a string."
   ]
  },
  {
   "cell_type": "code",
   "execution_count": null,
   "metadata": {},
   "outputs": [],
   "source": [
    "quantity_string = '4'\n",
    "total = quantity_string + 1"
   ]
  },
  {
   "cell_type": "markdown",
   "metadata": {},
   "source": [
    "## The int() Function"
   ]
  },
  {
   "cell_type": "markdown",
   "metadata": {},
   "source": [
    "If you are looking to convert a string into an integer, use the **int()** function and pass in the string to convert."
   ]
  },
  {
   "cell_type": "code",
   "execution_count": null,
   "metadata": {},
   "outputs": [],
   "source": [
    "quantity_string = '4'\n",
    "total = int(quantity_string) + 1\n",
    "print(total)"
   ]
  },
  {
   "cell_type": "markdown",
   "metadata": {},
   "source": [
    "## The float() Function"
   ]
  },
  {
   "cell_type": "markdown",
   "metadata": {},
   "source": [
    "In order to convert a string into a floating point number, use the **float()** function and pass in the string to convert."
   ]
  },
  {
   "cell_type": "code",
   "execution_count": null,
   "metadata": {},
   "outputs": [],
   "source": [
    "quantity_string = '4'\n",
    "quantity_float = float(quantity_string)\n",
    "print(quantity_float)"
   ]
  },
  {
   "cell_type": "markdown",
   "metadata": {},
   "source": [
    "## Comments"
   ]
  },
  {
   "cell_type": "markdown",
   "metadata": {},
   "source": [
    "Comments can be a great benefit to us humans, but will be totally ignored by Python. The main benefit of comments is that they give you a way to document your code. For example, a comment can help summarize what is about to happen in a complex piece of code. This can be incredibly helpful if you or a fellow programmer need to look at the code at a later date. Using comments can quickly explain what the intention of the code was at the time it was written. <br><br>\n",
    "A single-line comment is prefixed with an octothorpe (**#**), which is also known as a pound sign, number sign, or hash."
   ]
  },
  {
   "cell_type": "code",
   "execution_count": null,
   "metadata": {},
   "outputs": [],
   "source": [
    "# This is a comment. Python simply skips comments."
   ]
  },
  {
   "cell_type": "code",
   "execution_count": null,
   "metadata": {},
   "outputs": [],
   "source": [
    "# The following code:\n",
    "#     Computes the hosting costs for one server.\n",
    "#     Determines the duration of hosting that can be purchased given a budget."
   ]
  },
  {
   "cell_type": "markdown",
   "metadata": {},
   "source": [
    "Another option is to create multi-line comments by using triple quotes. You can use either single quotes or double quotes. The comment will begin directly after the first set of triple quotes and will end directly before the following set of triple quotes."
   ]
  },
  {
   "cell_type": "raw",
   "metadata": {},
   "source": [
    "\"\"\"\n",
    "The comment starts here.\n",
    "This is another line in the comment.\n",
    "Here is the last line of the comment.\n",
    "\"\"\""
   ]
  },
  {
   "cell_type": "markdown",
   "metadata": {},
   "source": [
    "Here is another example."
   ]
  },
  {
   "cell_type": "raw",
   "metadata": {},
   "source": [
    "\"\"\"\n",
    "This starts a comment down here!\n",
    "Python will not attempt to interpret these lines as they are comments.\n",
    "\"\"\""
   ]
  },
  {
   "cell_type": "markdown",
   "metadata": {},
   "source": [
    "It is even possible to create a single line quote by using the triple quote syntax."
   ]
  },
  {
   "cell_type": "raw",
   "metadata": {},
   "source": [
    "\"\"\"Yet another comment.\"\"\""
   ]
  },
  {
   "cell_type": "markdown",
   "metadata": {},
   "source": [
    "If we go back to our “Pig Speak” exercise in the previous chapter, you can practice adding in some of your own comments to make your code clearer."
   ]
  },
  {
   "cell_type": "code",
   "execution_count": null,
   "metadata": {},
   "outputs": [],
   "source": [
    "# Get the input from the user.\n",
    "text = input('What would you like the pig to say? ')\n",
    "\n",
    "# Determine the length of the input.\n",
    "text_length = len(text)\n",
    "\n",
    "# Make the border the same size as the input.\n",
    "print('             {}'.format('_' * text_length))\n",
    "print('           < {} >'.format(text))\n",
    "print('             {}'.format('-' * text_length))\n",
    "print('           /')\n",
    "print('     ^..^ /')\n",
    "print('~(  ( oo )') \n",
    "print('   ,, ,,')"
   ]
  },
  {
   "cell_type": "markdown",
   "metadata": {},
   "source": [
    "## Review"
   ]
  },
  {
   "cell_type": "markdown",
   "metadata": {},
   "source": [
    "- Unlike strings, numbers require no special decoration. When you enclose a number in quotes it will become a string.<br>\n",
    "- Use the **int()** function to convert a string to an integer.<br>\n",
    "- Use the **float()** function to convert a string to a float.<br>\n",
    "- An octothorpe (**#**) will begin a single line comment.<br>\n",
    "- Multiline comments must be enclosed with triple quotes (\"\"\").<br>"
   ]
  },
  {
   "cell_type": "markdown",
   "metadata": {},
   "source": [
    "## Exercises"
   ]
  },
  {
   "cell_type": "markdown",
   "metadata": {},
   "source": [
    "### Calculate the Cost of Cloud Hosting"
   ]
  },
  {
   "cell_type": "markdown",
   "metadata": {},
   "source": [
    "In this exercise let's assume that you are planning to build a social networking service using your new Python skills. You make the decision to host your application on servers running in the cloud. Once you’ve selected a hosting provider, you want to know how much it will cost to operate per day and per month. You will launch your service using one server, and your provider will charge $1.02 per hour. <br>\n",
    "Try to write a Python program that will display the answers to the following questions: <br>\n",
    "- How much will it cost to operate one server per day?<br>\n",
    "- How much will it cost to operate one server per month?<br>"
   ]
  },
  {
   "cell_type": "code",
   "execution_count": null,
   "metadata": {},
   "outputs": [],
   "source": [
    "# Write your solution here"
   ]
  },
  {
   "cell_type": "markdown",
   "metadata": {},
   "source": [
    "### Calculate the Cost of Cloud Hosting, Continued"
   ]
  },
  {
   "cell_type": "markdown",
   "metadata": {},
   "source": [
    "Building upon the previous example, let's add some more information. Assuming that you have saved 1,836 dollars to fund your new business venture, you are now wondering how many days you can keep one server running before your money runs out. Ideally though, you are hoping that your social network becomes incredibly popular and ultimately requires 20 servers to keep up with the demand. So, factoring in this information, how much will it cost to operate at that point? <br>\n",
    "\n",
    "Try writing a Python program that will display answers to the following questions:<br>\n",
    "- How much will it cost to operate one server per day? <br>\n",
    "- How much will it cost to operate one server per month? <br>\n",
    "- How much will it cost to operate twenty servers per day? <br>\n",
    "- How much will it cost to operate twenty servers per month? <br>\n",
    "- How many days can I operate one server with $1,836?"
   ]
  },
  {
   "cell_type": "code",
   "execution_count": null,
   "metadata": {},
   "outputs": [],
   "source": [
    "# Write your solution here"
   ]
  }
 ],
 "metadata": {
  "kernelspec": {
   "display_name": "Python 3",
   "language": "python",
   "name": "python3"
  },
  "language_info": {
   "codemirror_mode": {
    "name": "ipython",
    "version": 3
   },
   "file_extension": ".py",
   "mimetype": "text/x-python",
   "name": "python",
   "nbconvert_exporter": "python",
   "pygments_lexer": "ipython3",
   "version": "3.8.0"
  }
 },
 "nbformat": 4,
 "nbformat_minor": 4
}
