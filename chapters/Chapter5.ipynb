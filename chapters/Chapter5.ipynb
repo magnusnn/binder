{
 "cells": [
  {
   "cell_type": "markdown",
   "metadata": {},
   "source": [
    "# Chapter 5 Lists\n",
    "#### Material based on the Python book in the Succintly series made by Syncfusion\n",
    "In the previous chapters we’ve addressed string, integer, float, and Boolean data types. In this chapter\n",
    "we’ll look at lists, a data type that holds an organized collection of items. The items, or values, that are\n",
    "contained within the list can be various data types themselves. In fact, you can even have lists that\n",
    "exist within lists.\n",
    "\n",
    "Note that lists are created by using comma separated values between square brackets. The pattern is\n",
    "**list_name = [item_1, item_2, item_N]**. To create an empty list use: **list_name = []**. Items\n",
    "within a list can always be accessed by index. List indices are always zero based, which means that the\n",
    "first item in the list will have an index of 0, the second item an index of 1, and so on. To access any\n",
    "item in a list using an index, simply enclose the index in square brackets directly following the list name.\n",
    "The pattern is **list_name[index]**."
   ]
  },
  {
   "cell_type": "code",
   "execution_count": null,
   "metadata": {},
   "outputs": [],
   "source": [
    "animals = ['toad', 'lion', 'seal']\n",
    "\n",
    "print(animals[0])\n",
    "print(animals[1])\n",
    "print(animals[2])"
   ]
  },
  {
   "cell_type": "markdown",
   "metadata": {},
   "source": [
    "Keep in mind that not only can you access values by index, you can also set values by index."
   ]
  },
  {
   "cell_type": "code",
   "execution_count": null,
   "metadata": {},
   "outputs": [],
   "source": [
    "animals = ['toad', 'lion', 'seal']\n",
    "\n",
    "print(animals[0])"
   ]
  },
  {
   "cell_type": "markdown",
   "metadata": {},
   "source": [
    "Also, you can access items starting at the end of the list by making use of a negative index. The **-1**\n",
    "index will represent the last item on the list, with **-2** representing the second to last item on the list, and\n",
    "so on."
   ]
  },
  {
   "cell_type": "code",
   "execution_count": null,
   "metadata": {},
   "outputs": [],
   "source": [
    "animals = ['toad', 'lion', 'seal']\n",
    "\n",
    "print(animals[-1])\n",
    "print(animals[-2])\n",
    "print(animals[-3])"
   ]
  },
  {
   "cell_type": "markdown",
   "metadata": {},
   "source": [
    "## Adding Items to a List\n",
    "To add an item to the end of a list use the **append()** method and pass in the item that you wish to add."
   ]
  },
  {
   "cell_type": "code",
   "execution_count": null,
   "metadata": {},
   "outputs": [],
   "source": [
    "animals = ['toad', 'lion', 'seal']\n",
    "animals.append('fox')\n",
    "\n",
    "print(animals[-1])"
   ]
  },
  {
   "cell_type": "markdown",
   "metadata": {},
   "source": [
    "If you wish to add multiple items to the end of a list, use the **extend()** method. The **extend()** method\n",
    "takes a list. You pass in a list by name or create one by surrounding a list of items within brackets."
   ]
  },
  {
   "cell_type": "code",
   "execution_count": null,
   "metadata": {},
   "outputs": [],
   "source": [
    "animals = ['toad', 'lion', 'seal']\n",
    "animals.extend(['fox', 'owl'])\n",
    "\n",
    "print(animals)\n",
    "\n",
    "more_animals = ['whale', 'elk']\n",
    "animals.extend(more_animals)\n",
    "\n",
    "print(animals)"
   ]
  },
  {
   "cell_type": "markdown",
   "metadata": {},
   "source": [
    "It is also possible to add a single item at any point in the list simply by making use of the **insert()**\n",
    "method. Pass in the index where you want to add the item, follow it with a comma, and then the item\n",
    "itself. All of the current items in the list will be moved over by one."
   ]
  },
  {
   "cell_type": "code",
   "execution_count": null,
   "metadata": {},
   "outputs": [],
   "source": [
    "animals = ['toad', 'lion', 'seal']\n",
    "animals.insert(0, 'whale')\n",
    "\n",
    "print(animals)\n",
    "\n",
    "animals.insert(2, 'owl')\n",
    "\n",
    "print(animals)"
   ]
  },
  {
   "cell_type": "markdown",
   "metadata": {},
   "source": [
    "## Slices\n",
    "To access a selected portion of a list, which can be referred to as a slice, specify two indices and then\n",
    "separate them with a colon placed within brackets. The slice will begin at the first index and go up to,\n",
    "but not include, the very last index. If the first index is omitted then **0** is assumed. If the second index is\n",
    "omitted the number of items in the list is implied."
   ]
  },
  {
   "cell_type": "code",
   "execution_count": null,
   "metadata": {},
   "outputs": [],
   "source": [
    "animals = ['toad', 'lion', 'seal', 'fox', 'owl', 'whale']\n",
    "some_animals = animals[1:4]\n",
    "\n",
    "print('Some animals: {}'.format(some_animals))\n",
    "\n",
    "first_two = animals[0:2]\n",
    "\n",
    "print('First two animals: {}'.format(first_two))\n",
    "\n",
    "first_two_again = animals[:2]\n",
    "\n",
    "print('First two animals: {}'.format(first_two_again))\n",
    "\n",
    "last_two = animals[4:6]\n",
    "\n",
    "print('Last two animals: {}'.format(last_two))\n",
    "\n",
    "last_two_again = animals[-2:]\n",
    "\n",
    "print('Last two animals: {}'.format(last_two_again))"
   ]
  },
  {
   "cell_type": "markdown",
   "metadata": {},
   "source": [
    "## String Slices\n",
    "It is possible to use slices with strings. Just think of a string as a list of characters."
   ]
  },
  {
   "cell_type": "code",
   "execution_count": null,
   "metadata": {},
   "outputs": [],
   "source": [
    "part_of_a_whale = 'whale'[1:3]\n",
    "\n",
    "print(part_of_a_whale)"
   ]
  },
  {
   "cell_type": "markdown",
   "metadata": {},
   "source": [
    "## Finding an Item in a List\n",
    "\n",
    "Keep in mind that the **index()** method will accept a value as a parameter and then return the index of\n",
    "the first value on the list. For example, if there were two incidences of **lion** in the **animals** list, then\n",
    "**animals.index('lion')** would return the index of the first occurrence of **lion**. If the value is not\n",
    "discovered on the list, then Python will raise an exception."
   ]
  },
  {
   "cell_type": "code",
   "execution_count": null,
   "metadata": {},
   "outputs": [],
   "source": [
    "animals = ['toad', 'lion', 'seal']\n",
    "\n",
    "lion_index = animals.index('lion')\n",
    "\n",
    "print(lion_index)"
   ]
  },
  {
   "cell_type": "markdown",
   "metadata": {},
   "source": [
    "# Write some code\n",
    "\n",
    "Try writing some code on your own! Create a variable that holds a list of your favorite sports. Then print out the folowing from the list: \n",
    "1. The first item\n",
    "2. The last item\n",
    "3. The length of the list\n",
    "4. Use the length of the list to print out an item"
   ]
  },
  {
   "cell_type": "code",
   "execution_count": null,
   "metadata": {},
   "outputs": [],
   "source": [
    "# Write your code here\n"
   ]
  },
  {
   "cell_type": "markdown",
   "metadata": {},
   "source": [
    "## Exceptions\n",
    "\n",
    "An exception is most often a clear indication that something has either unexpectedly occurred, or has\n",
    "just generally gone wrong within your program. If you don’t account for, or handle exceptions within,\n",
    "your program, Python will print out a message which explains the exception, as well as halt the\n",
    "execution of the program. The following is an example of an exception that hasn’t been handled."
   ]
  },
  {
   "cell_type": "code",
   "execution_count": null,
   "metadata": {},
   "outputs": [],
   "source": [
    "animals = ['toad', 'lion', 'seal']\n",
    "\n",
    "sheep_index = animals.index('sheep')\n",
    "\n",
    "print(sheep_index)"
   ]
  },
  {
   "cell_type": "markdown",
   "metadata": {},
   "source": [
    "These messages that Python provides can be a valuable resource for correcting mistakes that exist\n",
    "within your code. As you can see from the previous example, Python clearly displayed the line number\n",
    "as well as the code that caused the exception.\n",
    "\n",
    "A key thing to remember though is that you often need to prevent Python from exiting whenever it\n",
    "encounters an exception. In order to avoid this you need to tell your program what it should do\n",
    "whenever it encounters an exception. Do this by surrounding any code you think may raise an\n",
    "exception in a **try/except** block. Let's update the previous example with a **try/except** block."
   ]
  },
  {
   "cell_type": "code",
   "execution_count": null,
   "metadata": {},
   "outputs": [],
   "source": [
    "animals = ['toad', 'lion', 'seal']\n",
    "\n",
    "try:\n",
    " sheep_index = animals.index('sheep')\n",
    "except:\n",
    " sheep_index = 'No sheep found.'\n",
    "\n",
    "print(sheep_index)"
   ]
  },
  {
   "cell_type": "markdown",
   "metadata": {},
   "source": [
    "If any exception is raised while you are executing the code in the <b>try</b>: code block, the code in the\n",
    "<b>except</b>: code block will be executed. If no exception is met in the <b>try</b>: code block, the code in the\n",
    "<b>except</b>: code block is omitted and will not be executed."
   ]
  },
  {
   "cell_type": "markdown",
   "metadata": {},
   "source": [
    "## Looping through a List\n",
    "\n",
    "If you are looking to perform an action on every item in a list, use a **for** loop. The pattern you will use is\n",
    "**for item_variable in list_name:**. Like **if** statements and function definitions, the **for** statement\n",
    "will always end in a colon. The code block that follows the for statement will be executed for every\n",
    "item within the list. Effectively what happens is that the first item in the list, **list[0]**, is assigned to\n",
    "**item_variable** and the code block is executed. The next item in the list, **list[1]**, is assigned to\n",
    "**item_variable** and the code block is executed. This process lasts until the list is finished. If there are\n",
    "no items in the list, the code block will not be executed.\n",
    "\n",
    "The following example prints the uppercase version of every item in the **animals** list"
   ]
  },
  {
   "cell_type": "code",
   "execution_count": null,
   "metadata": {},
   "outputs": [],
   "source": [
    "animals = ['toad', 'lion', 'seal']\n",
    "\n",
    "for animal in animals:\n",
    "    print(animal.upper())"
   ]
  },
  {
   "cell_type": "markdown",
   "metadata": {},
   "source": [
    "In addition to the **for** loop, Python also has a **while** loop. The pattern is **while condition:** followed by a code block. As long as this condition evaluates to true, the code block following the **while**\n",
    "statement will be executed. Typically, the code block will modify a variable that is part of the condition.\n",
    "At some point the condition will evaluate to false and the program continues after the **while** loop. In\n",
    "cases where the condition never evaluates to false it will become an infinite loop. To halt the execution\n",
    "of a Python program press Ctrl+C. Ctrl+C will allow you an out if you accidentally create an infinite loop,\n",
    "breaking you out of your program.\n",
    "\n",
    "The following example creates an index variable to store an integer, and will be employed as the index\n",
    "of the **animals** list. The **while** loop will execute when the index is less than the length of the animals\n",
    "list. During the code block the index variable will be incremented by one. The plus-equals operator adds\n",
    "a value to the variable’s existing value, and assigns the new value to that variable. Using **index += 1**\n",
    "will increment the index variable by one. Note that unlike many programming languages, Python does\n",
    "not have a “++” increment operator."
   ]
  },
  {
   "cell_type": "code",
   "execution_count": null,
   "metadata": {},
   "outputs": [],
   "source": [
    "animals = ['toad', 'lion', 'seal', 'fox', 'owl', 'whale', 'elk']\n",
    "index = 0\n",
    "\n",
    "while index < len(animals):\n",
    "    print(animals[index])\n",
    "    index += 1\n"
   ]
  },
  {
   "cell_type": "markdown",
   "metadata": {},
   "source": [
    "## Sorting a List\n",
    "\n",
    "To sort a list, call the **sort()** method on the list, making sure to avoid using any arguments. This will\n",
    "reorder the current list. If you wish to create a new list, simply use the built-in **sorted()** function and\n",
    "provide a list as an argument."
   ]
  },
  {
   "cell_type": "code",
   "execution_count": null,
   "metadata": {},
   "outputs": [],
   "source": [
    "animals = ['toad', 'lion', 'seal']\n",
    "\n",
    "sorted_animals = sorted(animals)\n",
    "\n",
    "print('Animals list: {}'.format(animals))\n",
    "\n",
    "print('Sorted animals list: {}'.format(sorted_animals))\n",
    "\n",
    "animals.sort()\n",
    "\n",
    "print('Animals after sort method: {}'.format(animals))"
   ]
  },
  {
   "cell_type": "markdown",
   "metadata": {},
   "source": [
    "## List Concatenation\n",
    "\n",
    "To concatenate or combine two or more lists, use the plus sign."
   ]
  },
  {
   "cell_type": "code",
   "execution_count": null,
   "metadata": {},
   "outputs": [],
   "source": [
    "animals = ['toad', 'lion', 'seal']\n",
    "\n",
    "more_animals = ['fox', 'owl', 'whale']\n",
    "\n",
    "all_animals = animals + more_animals\n",
    "\n",
    "print(all_animals)"
   ]
  },
  {
   "cell_type": "markdown",
   "metadata": {},
   "source": [
    "To determine the number of items on a list, use the built-in **len()** function and pass in a list."
   ]
  },
  {
   "cell_type": "code",
   "execution_count": null,
   "metadata": {},
   "outputs": [],
   "source": [
    "animals = ['toad', 'lion', 'seal']\n",
    "\n",
    "print(len(animals))\n",
    "\n",
    "animals.append('fox')\n",
    "\n",
    "print(len(animals))"
   ]
  },
  {
   "cell_type": "markdown",
   "metadata": {},
   "source": [
    "## Ranges\n",
    "\n",
    "Another important built-in function is the **range()** function, which creates a list of numbers and is often\n",
    "combined with the **for** statement. This function is useful when you want to complete an action a given\n",
    "number of times, or when you want to have access to the index of a list.\n",
    "\n",
    "The **range()** function necessitates at least one parameter that will denote a stop. By default, **range()**\n",
    "produces a list that begins at zero and continues up to, but not including, the stop. To generate a list\n",
    "that encompasses <b>N</b> items, pass <b>N</b> to **range()** like so: **range(N)**. For example, if you want to get a list of 4 items use <b>range(4)</b>. The list starts at zero and will contain the numbers **0, 1, 2,** and **3**.\n"
   ]
  },
  {
   "cell_type": "code",
   "execution_count": null,
   "metadata": {},
   "outputs": [],
   "source": [
    "for number in range(4):\n",
    "    print(number)"
   ]
  },
  {
   "cell_type": "markdown",
   "metadata": {},
   "source": [
    "It is possible for you to define the start as well as the stop. The pattern is **range(start, stop)**. To\n",
    "begin a list at <b>2</b> and stop at <b>4</b>, use **range(2, 4)**. This will produce a list that is made up of only two items, <b>2</b> and <b>3</B>."
   ]
  },
  {
   "cell_type": "code",
   "execution_count": null,
   "metadata": {},
   "outputs": [],
   "source": [
    "for number in range(2, 4):\n",
    "    print(number)"
   ]
  },
  {
   "cell_type": "markdown",
   "metadata": {},
   "source": [
    "In addition to the start and stop parameters, the **range()** function is also capable of accepting a step\n",
    "parameter. In cases where all three parameters are being utilized, the list will begin at the start value,\n",
    "cease just before the stop value, and increment the list by the step value. If there is no step value\n",
    "specified, as in the previous examples, its default value is **1**. Let’s try generating a list that incorporates\n",
    "all of the even numbers from 0 to 8."
   ]
  },
  {
   "cell_type": "code",
   "execution_count": null,
   "metadata": {},
   "outputs": [],
   "source": [
    "for number in range(0, 10, 2):\n",
    "    print(number)"
   ]
  },
  {
   "cell_type": "markdown",
   "metadata": {},
   "source": [
    "The following is an example of using the **range()** function in conjunction with a list to print every other\n",
    "item in that list."
   ]
  },
  {
   "cell_type": "code",
   "execution_count": null,
   "metadata": {},
   "outputs": [],
   "source": [
    "animals = ['toad', 'lion', 'seal', 'fox', 'owl', 'whale', 'elk']\n",
    "\n",
    "for number in range(0, len(animals), 2):\n",
    "    print(animals[number])"
   ]
  },
  {
   "cell_type": "markdown",
   "metadata": {},
   "source": [
    "## Review\n",
    "\n",
    "Lists can be made using square brackets to enclose comma separated values. The pattern is **list_name = [item_1, item_2, item_N]**.\n",
    "\n",
    "An index can be used to access items in a list. List indices are zero based. The pattern is **list_name[index]**.\n",
    "\n",
    "Use negative indices to access items from the end of the list. The last item in a list is **list_name[-1]**.\n",
    "\n",
    "Items can be added to a list by using the **append()** or **extend()** list methods.\n",
    "\n",
    "A slice allows you to access a portion of a list. The pattern is **list_name(start, stop)**\n",
    "\n",
    "The list **index()** method will accept a value as a parameter and return the index of the first value in the list, or create an exception if the value is not found within the list. The pattern is **list_name.index(value)**.\n",
    "\n",
    "Loop through a list by utilizing a **for** loop. The pattern is for **item_variable in list_name:** followed by a code block.\n",
    "\n",
    "The code block in a **while** loop will execute as long as the condition evaluates to true. The pattern is **while condition:** followed by a code block.\n",
    "\n",
    "To sort a list, use the built-in **sorted()** function or the **sort()** list method.\n",
    "\n",
    "The built-in **range()** function will produce a list of numbers. The pattern is **range(start, stop, step)**.\n",
    "\n",
    "Unhandled exceptions will cause Python programs to terminate. You can avoid this by handling exceptions using **try/except** blocks."
   ]
  },
  {
   "cell_type": "markdown",
   "metadata": {},
   "source": [
    "## Exercises\n",
    "\n",
    "## Grocery List\n",
    "\n",
    "Try creating a Python program that will capture and display a person’s grocery shopping list. Make it so the program will continually prompt the user for another item until the point where they enter a blank item. After all the items have been entered, try displaying the shopping list back to the user.\n",
    "\n",
    "Sample output:"
   ]
  },
  {
   "cell_type": "raw",
   "metadata": {},
   "source": [
    "Enter an item for your grocery list. Press <ENTER> when done: bread\n",
    "\n",
    "Item added.\n",
    "\n",
    "Enter an item for your grocery list. Press <ENTER> when done: milk\n",
    "\n",
    "Item added.\n",
    "\n",
    "Enter an item for your grocery list. Press <ENTER> when done: coffee\n",
    "\n",
    "Item added.\n",
    "\n",
    "Enter an item for your grocery list. Press <ENTER> when done:\n",
    "\n",
    "Your Grocery List:\n",
    "-----------------------------------------------\n",
    "bread\n",
    "milk\n",
    "coffee"
   ]
  },
  {
   "cell_type": "code",
   "execution_count": null,
   "metadata": {},
   "outputs": [],
   "source": [
    "# Write your solution here"
   ]
  }
 ],
 "metadata": {
  "kernelspec": {
   "display_name": "Python 2",
   "language": "python",
   "name": "python2"
  },
  "language_info": {
   "codemirror_mode": {
    "name": "ipython",
    "version": 2
   },
   "file_extension": ".py",
   "mimetype": "text/x-python",
   "name": "python",
   "nbconvert_exporter": "python",
   "pygments_lexer": "ipython2",
   "version": "2.7.17"
  }
 },
 "nbformat": 4,
 "nbformat_minor": 4
}
