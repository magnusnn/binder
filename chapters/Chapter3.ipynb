{
 "cells": [
  {
   "cell_type": "markdown",
   "metadata": {},
   "source": [
    "# Chapter 3 Booleans and Conditionals"
   ]
  },
  {
   "cell_type": "markdown",
   "metadata": {},
   "source": [
    "#### Material based on the Python book in the Succintly series made by Syncfusion"
   ]
  },
  {
   "cell_type": "markdown",
   "metadata": {},
   "source": [
    "A Boolean is a specific data type that is only capable of having one of two possible values: **True** or **False**. Another way to think of a Boolean is to consider it either on or off. To assign a Boolean to a variable use **variable_name = boolean**, where **boolean** is either **True** or **False**. Do not use quotes around **True** or **False**. Remember, quotes should only be used for strings."
   ]
  },
  {
   "cell_type": "code",
   "execution_count": null,
   "metadata": {},
   "outputs": [],
   "source": [
    "the_true_boolean = True\n",
    "the_other_boolean = False\n",
    "print(the_true_boolean)\n",
    "print(the_other_boolean)"
   ]
  },
  {
   "cell_type": "markdown",
   "metadata": {},
   "source": [
    "## Comparators"
   ]
  },
  {
   "cell_type": "markdown",
   "metadata": {},
   "source": [
    "The following chart lists six operators that compare one numeric value with another and will result in a Boolean."
   ]
  },
  {
   "cell_type": "markdown",
   "metadata": {},
   "source": [
    "Operator | Description\n",
    "--- | ---\n",
    "**==** | Equal to\n",
    "**>** | Greater than\n",
    "**>=** | Greater than or equal\n",
    "**<** | Less than\n",
    "**<=** | Less than or equal\n",
    "**!=** | Not equal"
   ]
  },
  {
   "cell_type": "markdown",
   "metadata": {},
   "source": [
    "When you see **1 == 2** you can think “Is 1 equal to 2?” If the answer is yes, then it is **True**. If the answer is no, then it is **False**. In the following example the answer is no, so the condition will be **False**. Note that while = assigns a value to a variable, == performs a comparison."
   ]
  },
  {
   "cell_type": "code",
   "execution_count": null,
   "metadata": {},
   "outputs": [],
   "source": [
    "is_two_equal_to_three = 2 == 3\n",
    "print(is_two_equal_to_three)"
   ]
  },
  {
   "cell_type": "markdown",
   "metadata": {},
   "source": [
    "Let’s try running the numbers 1 and 2 through all six comparators:"
   ]
  },
  {
   "cell_type": "code",
   "execution_count": null,
   "metadata": {},
   "outputs": [],
   "source": [
    "1 == 2"
   ]
  },
  {
   "cell_type": "code",
   "execution_count": null,
   "metadata": {},
   "outputs": [],
   "source": [
    "1 > 2 "
   ]
  },
  {
   "cell_type": "code",
   "execution_count": null,
   "metadata": {},
   "outputs": [],
   "source": [
    "1 >= 2 "
   ]
  },
  {
   "cell_type": "code",
   "execution_count": null,
   "metadata": {},
   "outputs": [],
   "source": [
    "1 < 2 "
   ]
  },
  {
   "cell_type": "code",
   "execution_count": null,
   "metadata": {},
   "outputs": [],
   "source": [
    "1 <= 2"
   ]
  },
  {
   "cell_type": "code",
   "execution_count": null,
   "metadata": {},
   "outputs": [],
   "source": [
    "1 != 2"
   ]
  },
  {
   "cell_type": "markdown",
   "metadata": {},
   "source": [
    "## Boolean Operators"
   ]
  },
  {
   "cell_type": "markdown",
   "metadata": {},
   "source": [
    "Keep in mind that Boolean logic is used extensively in the field of computer programming. There are only three Boolean operators: **and**, **or**, and **not**. Each one of them can be used to compare two conditions or negate a condition. Like comparators, they will result in a Boolean."
   ]
  },
  {
   "cell_type": "markdown",
   "metadata": {},
   "source": [
    "Operator | Description\n",
    "--- | ---\n",
    "**and** | Evaluates to **True** if both statements are true. Otherwise evaluates to **False**.\n",
    "**or** | Evaluates to **True** if either of the statements is true. Otherwise evaluates to **False**.\n",
    "**not** | Evaluates to the opposite of the statement."
   ]
  },
  {
   "cell_type": "markdown",
   "metadata": {},
   "source": [
    "The following is a truth table that clearly explains Boolean operators and their outcomes."
   ]
  },
  {
   "cell_type": "markdown",
   "metadata": {},
   "source": [
    "### And"
   ]
  },
  {
   "cell_type": "code",
   "execution_count": null,
   "metadata": {},
   "outputs": [],
   "source": [
    "True and True"
   ]
  },
  {
   "cell_type": "code",
   "execution_count": null,
   "metadata": {},
   "outputs": [],
   "source": [
    "True and False"
   ]
  },
  {
   "cell_type": "code",
   "execution_count": null,
   "metadata": {},
   "outputs": [],
   "source": [
    "False and True"
   ]
  },
  {
   "cell_type": "code",
   "execution_count": null,
   "metadata": {},
   "outputs": [],
   "source": [
    "False and False"
   ]
  },
  {
   "cell_type": "markdown",
   "metadata": {},
   "source": [
    "### Or"
   ]
  },
  {
   "cell_type": "code",
   "execution_count": null,
   "metadata": {},
   "outputs": [],
   "source": [
    "True or True"
   ]
  },
  {
   "cell_type": "code",
   "execution_count": null,
   "metadata": {},
   "outputs": [],
   "source": [
    "True or False"
   ]
  },
  {
   "cell_type": "code",
   "execution_count": null,
   "metadata": {},
   "outputs": [],
   "source": [
    "False or True"
   ]
  },
  {
   "cell_type": "code",
   "execution_count": null,
   "metadata": {},
   "outputs": [],
   "source": [
    "False or False"
   ]
  },
  {
   "cell_type": "markdown",
   "metadata": {},
   "source": [
    "### Not"
   ]
  },
  {
   "cell_type": "code",
   "execution_count": null,
   "metadata": {},
   "outputs": [],
   "source": [
    "not True"
   ]
  },
  {
   "cell_type": "code",
   "execution_count": null,
   "metadata": {},
   "outputs": [],
   "source": [
    "not False"
   ]
  },
  {
   "cell_type": "markdown",
   "metadata": {},
   "source": [
    "Let’s take a moment and evaluate two statements using the Boolean **and** operator. The first statement is **43 > 29** and it evaluates to **True**. The second statement is **43 < 44** and it also evaluates to **True**. **43 > 29** and **43 < 44** evaluates to **True** because **True** and **True** evaluates to **True**."
   ]
  },
  {
   "cell_type": "code",
   "execution_count": null,
   "metadata": {},
   "outputs": [],
   "source": [
    "43 > 29"
   ]
  },
  {
   "cell_type": "code",
   "execution_count": null,
   "metadata": {},
   "outputs": [],
   "source": [
    "43 < 44"
   ]
  },
  {
   "cell_type": "code",
   "execution_count": null,
   "metadata": {},
   "outputs": [],
   "source": [
    "43 > 29 and 43 < 44"
   ]
  },
  {
   "cell_type": "markdown",
   "metadata": {},
   "source": [
    "What is the result of **43 > 29** or **43 < 44**?"
   ]
  },
  {
   "cell_type": "code",
   "execution_count": null,
   "metadata": {},
   "outputs": [],
   "source": [
    "43 > 29 or 43 < 44"
   ]
  },
  {
   "cell_type": "markdown",
   "metadata": {},
   "source": [
    "The **not** Boolean operator will evaluate to the reverse of the statement. Since **43 > 29** is **True**, not **43 > 29** is **False**."
   ]
  },
  {
   "cell_type": "code",
   "execution_count": null,
   "metadata": {},
   "outputs": [],
   "source": [
    "43 > 29"
   ]
  },
  {
   "cell_type": "code",
   "execution_count": null,
   "metadata": {},
   "outputs": [],
   "source": [
    "not 43 > 29"
   ]
  },
  {
   "cell_type": "markdown",
   "metadata": {},
   "source": [
    "The order of operations for Boolean operators is:"
   ]
  },
  {
   "cell_type": "markdown",
   "metadata": {},
   "source": [
    "1. **not**\n",
    "2. **and**\n",
    "3. **or**"
   ]
  },
  {
   "cell_type": "markdown",
   "metadata": {},
   "source": [
    "Just as an example, **True and False or not False** is **True**. First, **not False** is assessed and is **True**. Next, **True and False** is calculated and is **False**. Finally, **True or False** is evaluated and is **True**.\n"
   ]
  },
  {
   "cell_type": "code",
   "execution_count": null,
   "metadata": {},
   "outputs": [],
   "source": [
    "not False"
   ]
  },
  {
   "cell_type": "code",
   "execution_count": null,
   "metadata": {},
   "outputs": [],
   "source": [
    "True and False"
   ]
  },
  {
   "cell_type": "code",
   "execution_count": null,
   "metadata": {},
   "outputs": [],
   "source": [
    "True or False"
   ]
  },
  {
   "cell_type": "code",
   "execution_count": null,
   "metadata": {},
   "outputs": [],
   "source": [
    "True and False or not False"
   ]
  },
  {
   "cell_type": "markdown",
   "metadata": {},
   "source": [
    "To control the order of operations, use parentheses. Anything surrounded by parentheses will be evaluated first and as its own independent unit. **True and False or not False** is the same as **(True and False) or (not False)**. It’s also the same as **((True and False) or (not False))**. Using parentheses will allow you to avoid memorizing the order of operations, and more importantly ensure that your intentions are explicit and clear."
   ]
  },
  {
   "cell_type": "markdown",
   "metadata": {},
   "source": [
    "## Conditionals"
   ]
  },
  {
   "cell_type": "markdown",
   "metadata": {},
   "source": [
    "The **if** statement will evaluate a Boolean expression and if it is **True** the code associated with it will be executed. Let’s look at the following example to see this demonstrated."
   ]
  },
  {
   "cell_type": "code",
   "execution_count": null,
   "metadata": {},
   "outputs": [],
   "source": [
    "if 43 < 44:\n",
    "    print('Forty-three is less than forty-four.')"
   ]
  },
  {
   "cell_type": "markdown",
   "metadata": {},
   "source": [
    "Because the Boolean expression **43 < 44** is **True**, the code indented under the if statement will be executed. This indented code is referred to as a code block. Any statements that are the same distance to the right will also belong to that code block. A code block can contain one or more lines, and its ending will be marked by a line that is less indented than the current code block. Also, keep in mind that code blocks can be nested. The following code listing is a logical view of code blocks."
   ]
  },
  {
   "cell_type": "raw",
   "metadata": {},
   "source": [
    "Block One\n",
    "    Block Two\n",
    "    Block Two\n",
    "        Block Three\n",
    "Block One\n",
    "Block One"
   ]
  },
  {
   "cell_type": "markdown",
   "metadata": {},
   "source": [
    "In most cases code blocks are indented using four spaces, but this occurs more out of sense of convention and is not strictly enforced. Python will allow you to use other levels of indentation within your programs. For example, while using four spaces is the most popular option for indentation, using two spaces is the next most popular choice. It is important however that whichever you choose you use it consistently. If you make the decision to use two spaces for indentation, then continue to use two spaces throughout the entire program. When in doubt though, it is always best to follow established conventions unless you have a particular reason not to do so. Also, if you encounter the following error, it means you have a problem within your spacing."
   ]
  },
  {
   "cell_type": "markdown",
   "metadata": {},
   "source": [
    "IndentationError: expected an indented block"
   ]
  },
  {
   "cell_type": "markdown",
   "metadata": {},
   "source": [
    "Now let’s get back to the **if** statement. Notice that the line containing the **if** statement will always end with a colon."
   ]
  },
  {
   "cell_type": "code",
   "execution_count": null,
   "metadata": {},
   "outputs": [],
   "source": [
    "age = 32\n",
    "if age >= 35:\n",
    "    print('You are old enough to be the President.')\n",
    "print('Have a nice day!')"
   ]
  },
  {
   "cell_type": "markdown",
   "metadata": {},
   "source": [
    "In this example, since **age >= 35** is **False**, the Python code indented underneath the if statement was not executed. The final **print** function will always execute because it exists outside of the if statement. Notice that it is not indented."
   ]
  },
  {
   "cell_type": "markdown",
   "metadata": {},
   "source": [
    "The **if** statement can also be paired with **else**. The code indented under **else** will execute in instances where the **if** statement is false. Try to think of the **if/else** statement as meaning, “If the statement is true, run the code underneath **if**. Otherwise run the code underneath **else**.”"
   ]
  },
  {
   "cell_type": "code",
   "execution_count": null,
   "metadata": {},
   "outputs": [],
   "source": [
    "age = 32\n",
    "\n",
    "if age >= 35:\n",
    "    print('You are old enough to be the President.')\n",
    "else:\n",
    "    print('You are not old enough to be the President.')\n",
    "\n",
    "print('Have a nice day!')"
   ]
  },
  {
   "cell_type": "markdown",
   "metadata": {},
   "source": [
    "You can also evaluate multiple conditions by using **elif**, which is short for “else if.” Such as in the case of **if** and **else**, you want to end the line of the **elif** statement with a colon, as well as indent the code to execute underneath it."
   ]
  },
  {
   "cell_type": "code",
   "execution_count": null,
   "metadata": {},
   "outputs": [],
   "source": [
    "age = 32\n",
    "\n",
    "if age >= 35:\n",
    "    print('You are old enough to be a Senator or the President.')\n",
    "elif age >= 30:\n",
    "    print('You are old enough to be a Senator.')\n",
    "else:\n",
    "    print('You are not old enough to be a Senator or the President.')\n",
    "\n",
    "print('Have a nice day!')"
   ]
  },
  {
   "cell_type": "markdown",
   "metadata": {},
   "source": [
    "In this instance, since **age >= 35** is **False**, the code underneath the **if** statement was not executed. Since **age >= 30** is **True**, the code underneath **elif** did execute. The code under **else** will only execute in instances where all of the preceding **if** and **elif** statements evaluate to **False**. Also, the first **if** or **elif** statement to evaluate to **True** will execute, with any remaining **elif** or **else** blocks not executing. The following listing is a final example to illustrate the points explained previously."
   ]
  },
  {
   "cell_type": "code",
   "execution_count": null,
   "metadata": {},
   "outputs": [],
   "source": [
    "age = 103\n",
    "\n",
    "if age >= 35:\n",
    "    print('You are old enough to be a Representative, Senator, or the President.')\n",
    "elif age >= 30:\n",
    "    print('You are old enough to be a Senator.')\n",
    "elif age >= 25:\n",
    "    print('You are old enough to be a Representative.')\n",
    "else:\n",
    "    print('You are not old enough to be a Representative, Senator, or the President.')\n",
    "    \n",
    "print('Have a nice day!')"
   ]
  },
  {
   "cell_type": "markdown",
   "metadata": {},
   "source": [
    "## Review"
   ]
  },
  {
   "cell_type": "markdown",
   "metadata": {},
   "source": [
    "- Booleans are always either **True** or **False**. <br>\n",
    "- Comparators contrast one numeric value with another and will result in a Boolean. <br>\n",
    "- Boolean operators (**and**, **or**, **not**) either compare or negate two conditions and will result in a Boolean.<br>\n",
    "- Parentheses can be utilized to control the order of operations.<br>\n",
    "- A code block is marked by a section of code at the same level of indentation.<br>\n",
    "- Conditional keywords include **if**, **if/else**, and **if/elif/else**."
   ]
  },
  {
   "cell_type": "markdown",
   "metadata": {},
   "source": [
    "## Exercises"
   ]
  },
  {
   "cell_type": "markdown",
   "metadata": {},
   "source": [
    "### Walk, Drive, or Fly"
   ]
  },
  {
   "cell_type": "markdown",
   "metadata": {},
   "source": [
    "Try creating a program that will ask the user how far they wish to travel. If they express a desire to travel less than three miles, have the program tell them to walk. If they desire to travel more than three miles, but less than three hundred miles, advise them that they should drive. In any instance where they want to travel three hundred or more miles, tell them to fly. Sample output:"
   ]
  },
  {
   "cell_type": "raw",
   "metadata": {},
   "source": [
    "What distance are you traveling in miles? 3125\n",
    "I suggest flying to your destination."
   ]
  },
  {
   "cell_type": "code",
   "execution_count": null,
   "metadata": {},
   "outputs": [],
   "source": [
    "# Write your solution here"
   ]
  },
  {
   "cell_type": "markdown",
   "metadata": {},
   "source": [
    "## Resources"
   ]
  },
  {
   "cell_type": "markdown",
   "metadata": {},
   "source": [
    "- Built-in Types: https://docs.python.org/3/library/stdtypes.html <br>\n",
    "- Order of Operations (PEMDAS): http://www.purplemath.com/modules/orderops.htm <br>\n",
    "- Style Guide for Python Code (PEP 8): http://legacy.python.org/dev/peps/pep-0008/ <br>"
   ]
  }
 ],
 "metadata": {
  "kernelspec": {
   "display_name": "Python 3",
   "language": "python",
   "name": "python3"
  },
  "language_info": {
   "codemirror_mode": {
    "name": "ipython",
    "version": 3
   },
   "file_extension": ".py",
   "mimetype": "text/x-python",
   "name": "python",
   "nbconvert_exporter": "python",
   "pygments_lexer": "ipython3",
   "version": "3.8.0"
  }
 },
 "nbformat": 4,
 "nbformat_minor": 4
}
