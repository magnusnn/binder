{
 "cells": [
  {
   "cell_type": "markdown",
   "metadata": {},
   "source": [
    "# Chapter 4 Functions"
   ]
  },
  {
   "cell_type": "markdown",
   "metadata": {},
   "source": [
    "#### Material based on the Python book in the Succintly series made by Syncfusion"
   ]
  },
  {
   "cell_type": "markdown",
   "metadata": {},
   "source": [
    "Among computer programmers there is an important concept known as DRY: Don’t Repeat Yourself. Instead of repeating several lines of code every time you want to perform a particular task, use a function that will allow you to write a block of Python code once and then use it many times. This can help reduce the overall length of your programs, as well as give you a single place to change, test, troubleshoot, and document any given task. Ultimately, this makes your application much easier to maintain in the long run."
   ]
  },
  {
   "cell_type": "markdown",
   "metadata": {},
   "source": [
    "To create a function, use the **def** keyword followed by the name of the function. Always follow the function name with a set of parentheses. If your function accepts parameters you may include the names of those parameters within the parentheses, separating them with commas. Finally, conclude the function definition line with a colon. The code block that follows the function definition will be executed any time the function is called. The pattern is **def function_name():**. The following is a very simple function."
   ]
  },
  {
   "cell_type": "code",
   "execution_count": null,
   "metadata": {},
   "outputs": [],
   "source": [
    "def say_hello():\n",
    "    print('Hello!')"
   ]
  },
  {
   "cell_type": "markdown",
   "metadata": {},
   "source": [
    "If you were to attempt to execute this code, no output would be presented because the function is defined but never called. When calling a function you must ensure that you include the parentheses."
   ]
  },
  {
   "cell_type": "code",
   "execution_count": null,
   "metadata": {},
   "outputs": [],
   "source": [
    "def say_hello():\n",
    "    print('Hello!')\n",
    "\n",
    "say_hello()"
   ]
  },
  {
   "cell_type": "markdown",
   "metadata": {},
   "source": [
    "A function will have to be defined before it can be called. Define your functions at the top of your Python program. Here you’ll see what will happen if you try to use a function that has not yet been defined."
   ]
  },
  {
   "cell_type": "code",
   "execution_count": null,
   "metadata": {},
   "outputs": [],
   "source": [
    "say_hey()\n",
    "\n",
    "def say_hey():\n",
    "    print('Hello!')"
   ]
  },
  {
   "cell_type": "markdown",
   "metadata": {},
   "source": [
    "Now let’s extend the function so that it accepts a parameter. Try to think of parameters as variables that can be used inside of the function. The pattern is **def function_name(parameter_name):**."
   ]
  },
  {
   "cell_type": "code",
   "execution_count": null,
   "metadata": {},
   "outputs": [],
   "source": [
    "def say_hello(name):\n",
    "    print('Hello {}!'.format(name))\n",
    "\n",
    "say_hello('Erin')\n",
    "say_hello('everybody')"
   ]
  },
  {
   "cell_type": "markdown",
   "metadata": {},
   "source": [
    "Once you’ve defined a parameter, the function will expect and require a value for that parameter. The actual value specified for a function parameter when the function is invoked is sometimes called the argument. If one is not provided you will encounter an error."
   ]
  },
  {
   "cell_type": "code",
   "execution_count": null,
   "metadata": {},
   "outputs": [],
   "source": [
    "def say_hello(name):\n",
    "    print('Hello {}!'.format(name))\n",
    "say_hello()"
   ]
  },
  {
   "cell_type": "markdown",
   "metadata": {},
   "source": [
    "# Write some code\n",
    "\n",
    "Try writing some code on your own! Write a function with the following properties:\n",
    "1. Takes two parameters\n",
    "2. Prints out the sum of the two parameters"
   ]
  },
  {
   "cell_type": "code",
   "execution_count": null,
   "metadata": {},
   "outputs": [],
   "source": [
    "# Write your code here\n"
   ]
  },
  {
   "cell_type": "markdown",
   "metadata": {},
   "source": [
    "If you’d like to make the parameter optional, set a default value for it by using the equals sign. The pattern is **def function_name(parameter_name = default_value):**."
   ]
  },
  {
   "cell_type": "code",
   "execution_count": null,
   "metadata": {},
   "outputs": [],
   "source": [
    "def say_hello(name = 'there'):\n",
    "    print('Hello {}!'.format(name))\n",
    "    \n",
    "say_hello()\n",
    "say_hello('Erin')"
   ]
  },
  {
   "cell_type": "markdown",
   "metadata": {},
   "source": [
    "Keep in mind that functions are capable of accepting multiple parameters. All you need to do is include them within the parentheses of the function definition, and separate them with a comma. When you are calling the function, always supply the arguments and separate them with commas as well."
   ]
  },
  {
   "cell_type": "code",
   "execution_count": null,
   "metadata": {},
   "outputs": [],
   "source": [
    "def say_hello(first, last):\n",
    "    print('Hello {} {}!'.format(first, last))\n",
    "    \n",
    "say_hello('Josiah', 'Carberry')"
   ]
  },
  {
   "cell_type": "markdown",
   "metadata": {},
   "source": [
    "When parameters are accepted by a function they can also be called positional parameters. This is because their order is important. Notice here that **Josiah** was assigned to **first** while **Carberry** was assigned to **last**. You can also explicitly pass values into a function by name. Whenever you are calling the function make sure to supply the parameter name, followed by the equal sign, and then the value for that parameter. When using named parameters, order is not important. Here’s an example."
   ]
  },
  {
   "cell_type": "code",
   "execution_count": null,
   "metadata": {},
   "outputs": [],
   "source": [
    "def say_hello(first, last):\n",
    "    print('Hello {} {}!'.format(first, last))\n",
    "\n",
    "say_hello(first = 'Josiah', last = 'Carberry')\n",
    "say_hello(last = 'Carberry', first = 'Hank')"
   ]
  },
  {
   "cell_type": "markdown",
   "metadata": {},
   "source": [
    "It is also possible to combine required and optional parameters as in the following example. If you use both required and optional parameters, the required parameters should come first."
   ]
  },
  {
   "cell_type": "code",
   "execution_count": null,
   "metadata": {},
   "outputs": [],
   "source": [
    "def say_hello(first, last='Carberry'):\n",
    "    print('Hello {} {}!'.format(first, last))\n",
    "    \n",
    "say_hello('Josiah')\n",
    "say_hello('Hank', 'Mobley')"
   ]
  },
  {
   "cell_type": "markdown",
   "metadata": {},
   "source": [
    "Often, the first statement of a function is a documentation string, or docstring for short. You can create a docstring by surrounding text with three double quotes. This docstring will offer a brief summary of the function. When writing the docstring make sure to ask yourself, “What does this function do?” or “Why does this function exist?” You can access this docstring by using the built-in **help()** function. Pass the name of the function you want more information about to **help()**."
   ]
  },
  {
   "cell_type": "code",
   "execution_count": null,
   "metadata": {},
   "outputs": [],
   "source": [
    "def say_hello(first, last='Carberry'):\n",
    "    \"\"\"Say hello.\"\"\"\n",
    "    print('Hello {} {}!'.format(first, last))\n",
    "\n",
    "help(say_hello)"
   ]
  },
  {
   "cell_type": "markdown",
   "metadata": {},
   "source": [
    "Not only are functions capable of performing a task, they can also return data by using the **return** statement. This statement makes it possible for you to return any data type that you require. Once the **return** statement is called, no further code in the function will be executed. The following code is a function that returns a string."
   ]
  },
  {
   "cell_type": "code",
   "execution_count": null,
   "metadata": {},
   "outputs": [],
   "source": [
    "def even_or_odd(number):\n",
    "    \"\"\"Determine if a number is odd or even.\"\"\"\n",
    "    if number % 2 == 0:\n",
    "        return 'Even'\n",
    "    else:\n",
    "        return 'Odd'\n",
    "    \n",
    "even_or_odd_string = even_or_odd(9)\n",
    "\n",
    "print(even_or_odd_string)"
   ]
  },
  {
   "cell_type": "markdown",
   "metadata": {},
   "source": [
    "See the following example for a similar function that returns a Boolean."
   ]
  },
  {
   "cell_type": "code",
   "execution_count": null,
   "metadata": {},
   "outputs": [],
   "source": [
    "def is_odd(number):\n",
    "    \"\"\"Determine if a number is odd.\"\"\"\n",
    "    if number % 2 == 0:\n",
    "        return False\n",
    "    else:\n",
    "        return True\n",
    "\n",
    "print(is_odd(9))"
   ]
  },
  {
   "cell_type": "markdown",
   "metadata": {},
   "source": [
    "It is entirely possible for you to create functions that call other functions. The following listing is an example."
   ]
  },
  {
   "cell_type": "code",
   "execution_count": null,
   "metadata": {},
   "outputs": [],
   "source": [
    "def get_name():\n",
    "    \"\"\"Get and return a name\"\"\"\n",
    "    name = input('What is your name? ') \n",
    "    return name\n",
    "\n",
    "def say_name(name):\n",
    "    \"\"\"Say a name\"\"\"\n",
    "    print('Your name is {}.'.format(name))\n",
    "    \n",
    "def get_and_say_name():\n",
    "    \"\"\"Get and display name\"\"\"\n",
    "    name = get_name()\n",
    "    say_name(name)\n",
    "\n",
    "get_and_say_name()"
   ]
  },
  {
   "cell_type": "markdown",
   "metadata": {},
   "source": [
    "## Review"
   ]
  },
  {
   "cell_type": "markdown",
   "metadata": {},
   "source": [
    "- A function is a block of reusable code that can perform an action as well as optionally return data. <br>\n",
    "- A function can be called only after it has been defined.<br>\n",
    "- A function is defined by the basic pattern: **def function_name(parameter_name):**.<br>\n",
    "- A function is capable of accepting parameters. To make a parameter optional simply supply a default value for that particular parameter.<br>\n",
    "- You can supply a docstring as the first line of your function.<br>\n",
    "- The **return** statement will exit the function and pass back anything that follows return.<br>\n",
    "- Use the built-in **help()** function to get assistance with a particular object. When supplying a function to **help()**, the docstring enclosed within the function will be displayed."
   ]
  },
  {
   "cell_type": "markdown",
   "metadata": {},
   "source": [
    "## Exercises"
   ]
  },
  {
   "cell_type": "markdown",
   "metadata": {},
   "source": [
    "### Fill in the Blank Word Game"
   ]
  },
  {
   "cell_type": "markdown",
   "metadata": {},
   "source": [
    "This exercise involves creating a fill in the blank word game. Try prompting the user to enter a noun, verb, and an adjective. Use the provided responses to fill in the blanks and then display the story.\n",
    "- First, write a short story. Remove a noun, verb, and an adjective.\n",
    "- Create a function that asks for input from the user.\n",
    "- Create another function that will fill the blanks in the story you’ve just created.\n",
    "- Ensure that each function contains a docstring.\n",
    "- After the noun, verb, and adjective have been collected from the user, display the story that has been created using their input."
   ]
  },
  {
   "cell_type": "code",
   "execution_count": null,
   "metadata": {},
   "outputs": [],
   "source": [
    "# Write your solution here"
   ]
  },
  {
   "cell_type": "markdown",
   "metadata": {},
   "source": [
    "## Resources\n",
    "- DRY: https://en.wikipedia.org/wiki/Don%27t_repeat_yourself\n",
    "- Documentation for the help() built-in function: https://docs.python.org/3/library/functions.html#help Docstring Conventions (PEP 257): http://legacy.python.org/dev/peps/pep-0257/"
   ]
  }
 ],
 "metadata": {
  "kernelspec": {
   "display_name": "Python 2",
   "language": "python",
   "name": "python2"
  },
  "language_info": {
   "codemirror_mode": {
    "name": "ipython",
    "version": 2
   },
   "file_extension": ".py",
   "mimetype": "text/x-python",
   "name": "python",
   "nbconvert_exporter": "python",
   "pygments_lexer": "ipython2",
   "version": "2.7.17"
  }
 },
 "nbformat": 4,
 "nbformat_minor": 4
}
