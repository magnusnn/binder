{
 "cells": [
  {
   "cell_type": "markdown",
   "metadata": {},
   "source": [
    "# Chapter 7 Tuples\n",
    "#### Material based on the Python book in the Succintly series made by Syncfusion\n",
    "A tuple is an immutable list, meaning that once it is defined it cannot be changed. This is different from\n",
    "normal lists in which you can add, remove, and change the values. With tuples none of these actions are an option. Where tuples are similar to lists is that they are ordered in the same fashion, and the values in the tuple can be still be accessed by index. In fact, you can perform many of the same operations on a tuple that you can on a list. You can concatenate tuples, you can iterate over the values in a tuple with a **for** loop, you can access values from the end of the tuple using negative indices, and you can access slices of a tuple. Tuples are created using comma separated values between parentheses. The pattern is **tuple_name = (item_1, item_2, item_N)**. If you only want a single item in a tuple, that single item must always be followed by a comma. The pattern is **tuple_name = (item_1,)**.\n",
    "\n",
    "Tuples are key for organizing and holding data that will not, or should not change at any point during the execution of your program. Using a tuple is a great way to ensure that the values are not accidentally altered. For example, the months of the year should not change."
   ]
  },
  {
   "cell_type": "code",
   "execution_count": null,
   "metadata": {},
   "outputs": [],
   "source": [
    "months_of_the_year = ('January', 'February', 'March', 'April', 'May', 'June',\n",
    "'July', 'August', 'September', 'October', 'November', 'December')\n",
    "\n",
    "jan = months_of_the_year[0]\n",
    "\n",
    "print(jan)\n",
    "print()\n",
    "\n",
    "for month in months_of_the_year:\n",
    "    print(month)\n",
    "\n",
    "# You cannot modify values in a tuple. This will raise an exception.\n",
    "Months_of_the_year[0] = 'New January'"
   ]
  },
  {
   "cell_type": "markdown",
   "metadata": {},
   "source": [
    "Even though you are unable to change the values within a tuple, you can always remove the entire tuple during the execution of your program by making use of the previously mentioned **del** statement."
   ]
  },
  {
   "cell_type": "code",
   "execution_count": null,
   "metadata": {},
   "outputs": [],
   "source": [
    "months_of_the_year = ('January', 'February', 'March', 'April', 'May', 'June',\n",
    "'July', 'August', 'September', 'October', 'November', 'December')\n",
    "\n",
    "print(months_of_the_year)\n",
    "\n",
    "del months_of_the_year\n",
    "\n",
    "# This will raise an exception since the tuple was deleted.\n",
    "print(months_of_the_year)"
   ]
  },
  {
   "cell_type": "markdown",
   "metadata": {},
   "source": [
    "## Switching between Tuples and Lists\n",
    "\n",
    "In order to make a list from a tuple, use the **list()** built-in function and pass in the tuple. To create a tuple from a list, use the **tuple()** built-in function. The built-in function **type()** will display an object’s\n",
    "type.\n"
   ]
  },
  {
   "cell_type": "code",
   "execution_count": null,
   "metadata": {},
   "outputs": [],
   "source": [
    "months_of_the_year_tuple = ('January', 'February', 'March', 'April', 'May',\n",
    "'June', 'July', 'August', 'September', 'October', 'November', 'December')\n",
    "\n",
    "months_of_the_year_list = list(months_of_the_year_tuple)\n",
    "\n",
    "print('months_of_the_year_tuple is {}.'.format(type(months_of_the_year_tuple)))\n",
    "\n",
    "print('months_of_the_year_list is {}.'.format(type(months_of_the_year_list)))\n",
    "\n",
    "animals_list = ['toad', 'lion', 'seal']\n",
    "\n",
    "animals_tuple = tuple(animals_list)\n",
    "\n",
    "print('animals_list is {}.'.format(type(animals_list)))\n",
    "\n",
    "print('animals_tuple is {}.'.format(type(animals_tuple)))"
   ]
  },
  {
   "cell_type": "markdown",
   "metadata": {},
   "source": [
    "## Looping through a Tuple\n",
    "\n",
    "If you are looking to perform a particular action on every item within a tuple, use a **for** loop. The pattern is **for item_variable in tuple_name:** followed by a code block."
   ]
  },
  {
   "cell_type": "code",
   "execution_count": null,
   "metadata": {},
   "outputs": [],
   "source": [
    "months_of_the_year = ('January', 'February', 'March', 'April', 'May', 'June',\n",
    "'July', 'August', 'September', 'October', 'November', 'December')\n",
    "\n",
    "for month in months_of_the_year:\n",
    "    print(month)"
   ]
  },
  {
   "cell_type": "markdown",
   "metadata": {},
   "source": [
    "## Tuple Assignment\n",
    "\n",
    "You can use tuples to assign values to multiple variables at the same time. In the following example, the variables **jan, feb, mar, apr, may, jun, jul, aug, sep, oct, nov,** and **dec** are assigned the months of the year from the months_of_the_year tuple."
   ]
  },
  {
   "cell_type": "code",
   "execution_count": null,
   "metadata": {},
   "outputs": [],
   "source": [
    "months_of_the_year = ('January', 'February', 'March', 'April', 'May', 'June',\n",
    "'July', 'August', 'September', 'October', 'November', 'December')\n",
    "\n",
    "(jan, feb, mar, apr, may, jun, jul, aug, sep, oct, nov, dec) = months_of_the_year\n",
    "\n",
    "print(jan)\n",
    "\n",
    "print(dec)"
   ]
  },
  {
   "cell_type": "markdown",
   "metadata": {},
   "source": [
    "It is also possible to use tuple assignment with lists."
   ]
  },
  {
   "cell_type": "code",
   "execution_count": null,
   "metadata": {},
   "outputs": [],
   "source": [
    "contact_info = ['555-0123', 'david@gmail.com']\n",
    "\n",
    "(phone, email) = contact_info\n",
    "\n",
    "print(phone)\n",
    "\n",
    "print(email)"
   ]
  },
  {
   "cell_type": "markdown",
   "metadata": {},
   "source": [
    "# Write some code\n",
    "\n",
    "Try writing some code on your own! Create a **contactlist** where each contact consist of a **tuple** that holds **name, phone and email** for the contact. Use a **for** loop to print out both phone and email for each contact."
   ]
  },
  {
   "cell_type": "code",
   "execution_count": null,
   "metadata": {},
   "outputs": [],
   "source": [
    "# Write your code her"
   ]
  },
  {
   "cell_type": "markdown",
   "metadata": {},
   "source": [
    "Tuple assignment can also be used with functions as well. For example, you could create a function that returns a tuple and assigns those values to different variables.\n",
    "\n",
    "The following example uses the built-in **max()** and **min()** functions. The **max()** built-in function will return the largest item that is passed to it. The **min()** built-in function will return the smallest item that is passed to it.\n"
   ]
  },
  {
   "cell_type": "code",
   "execution_count": null,
   "metadata": {},
   "outputs": [],
   "source": [
    "def high_and_low(numbers):\n",
    "    \"\"\"Determine the highest and lowest number\"\"\"\n",
    "    highest = max(numbers)\n",
    "    lowest = min(numbers)\n",
    "    return (highest, lowest)\n",
    "\n",
    "lucky_numbers = [37, 71, 47, 13, 17, 67]\n",
    "\n",
    "(highest, lowest) = high_and_low(lucky_numbers)\n",
    "\n",
    "print('The highest number is: {}'.format(highest))\n",
    "\n",
    "print('The lowest number is: {}'.format(lowest))"
   ]
  },
  {
   "cell_type": "markdown",
   "metadata": {},
   "source": [
    "You can also use tuple assignment in a **for** loop. In the following example the **contacts** list is comprised of a series of tuples. Each time the **for** loop is performed the variables **name** and **phone** will be populated with the contents of a tuple from the **contacts** list."
   ]
  },
  {
   "cell_type": "code",
   "execution_count": null,
   "metadata": {},
   "outputs": [],
   "source": [
    "contacts = [('David', '555-0123'), ('Tom', '555-5678')]\n",
    "\n",
    "for (name, phone) in contacts:\n",
    "    print(\"{}'s phone number is {}.\".format(name, phone))"
   ]
  },
  {
   "cell_type": "markdown",
   "metadata": {},
   "source": [
    "## Review\n",
    "A tuple is an immutable list, which means that once it has been defined the values in the tuple cannot be changed.\n",
    "\n",
    "The **del** statement can be used to delete a tuple. **Del tuple_name**\n",
    "\n",
    "It is possible to convert a tuple to a list using the **list()** built-in function.\n",
    "\n",
    "Lists can also be converted to tuples by using the **tuple()** built-in function.\n",
    "\n",
    "You can use tuple assignment to assign values to multiple variables at the same time. **(var_1, var_N) = (value_1, value_N)**\n",
    "\n",
    "Tuple assignment can be used in **for** loops.\n",
    "\n",
    "The **max()** built-in function will return the largest item that is passed to it.\n",
    "\n",
    "The **min()** built-in function will return the smallest item that is passed to it."
   ]
  },
  {
   "cell_type": "markdown",
   "metadata": {},
   "source": [
    "## Exercises\n",
    "\n",
    "## ZIP Codes\n",
    "\n",
    "Try creating a list of cities that will include a series of tuples that contain both a city’s name and its ZIP code. Loop through the list and utilize tuple assignment. Assign one variable to denote the city name and another variable to represent the ZIP code. Display the city’s name and ZIP code to the screen.\n",
    "\n",
    "Sample output:"
   ]
  },
  {
   "cell_type": "raw",
   "metadata": {},
   "source": [
    "The ZIP code for Short Hills, NJ is 07078.\n",
    "\n",
    "The ZIP code for Fairfax Station, VA is 22039.\n",
    "\n",
    "The ZIP code for Weston, CT is 06883.\n",
    "\n",
    "The ZIP code for Great Falls, VA is 22066."
   ]
  },
  {
   "cell_type": "code",
   "execution_count": null,
   "metadata": {},
   "outputs": [],
   "source": [
    "# Write your solution here"
   ]
  }
 ],
 "metadata": {
  "kernelspec": {
   "display_name": "Python 2",
   "language": "python",
   "name": "python2"
  },
  "language_info": {
   "codemirror_mode": {
    "name": "ipython",
    "version": 2
   },
   "file_extension": ".py",
   "mimetype": "text/x-python",
   "name": "python",
   "nbconvert_exporter": "python",
   "pygments_lexer": "ipython2",
   "version": "2.7.17"
  }
 },
 "nbformat": 4,
 "nbformat_minor": 4
}
