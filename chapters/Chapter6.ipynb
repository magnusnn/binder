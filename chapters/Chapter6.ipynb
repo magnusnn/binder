{
 "cells": [
  {
   "cell_type": "markdown",
   "metadata": {},
   "source": [
    "# Chapter 6 Dictionaries\n",
    "#### Material based on the Python book in the Succintly series made by Syncfusion\n",
    "\n",
    "Another data type in Python is a dictionary. A dictionary holds key-value pairs, which are referred to as items. You will hear dictionaries referred to in different ways including: associative arrays, hashes, or hash tables.\n",
    "\n",
    "Dictionaries are generated using comma separated items surrounded by curly braces. The item begins with a key, followed by a colon, and concluded with a value. The pattern is **dictionary_name = {key_1: value_1, key_N: value_N}**. In order to create an empty dictionary, use **dictionary_name = {}**.\n",
    "\n",
    "Any items in a dictionary can be retrieved by key. To do so, enclose the key within brackets\n",
    "immediately following the dictionary name. The pattern is **dictionary_name[key]**."
   ]
  },
  {
   "cell_type": "code",
   "execution_count": null,
   "metadata": {},
   "outputs": [],
   "source": [
    "contacts = {'David': '555-0123', 'Tom': '555-5678'}\n",
    "\n",
    "davids_phone = contacts['David']\n",
    "\n",
    "toms_phone = contacts['Tom']\n",
    "\n",
    "print('Dial {} to call David.'.format(davids_phone))\n",
    "\n",
    "print('Dial {} to call Tom.'.format(toms_phone))"
   ]
  },
  {
   "cell_type": "markdown",
   "metadata": {},
   "source": [
    "Not only are you able to access values by key, you can also set values by key. The pattern is **dictionary_name[key] = value**."
   ]
  },
  {
   "cell_type": "code",
   "execution_count": null,
   "metadata": {},
   "outputs": [],
   "source": [
    "contacts = {'David': '555-0123', 'Tom': '555-5678'}\n",
    "\n",
    "contacts['David'] = '555-0000'\n",
    "\n",
    "davids_phone = contacts['David']\n",
    "\n",
    "print('Dial {} to call David.'.format(davids_phone))"
   ]
  },
  {
   "cell_type": "markdown",
   "metadata": {},
   "source": [
    "# Write some code\n",
    "\n",
    "Try writing some code on your own! Create a dictionary and fill it with english to norwegian translation. Try printing out some of the words in the dictionary. "
   ]
  },
  {
   "cell_type": "code",
   "execution_count": null,
   "metadata": {},
   "outputs": [],
   "source": [
    "# Write your code here\n"
   ]
  },
  {
   "cell_type": "markdown",
   "metadata": {},
   "source": [
    "## Adding Items to a Dictionary\n",
    "\n",
    "Keep in mind that you can easily add new items to a dictionary through the process of assignment. The\n",
    "pattern for this is **dictionary_name[new_key] = value**. In order to determine the number of items in a dictionary, first use the **len()** built-in function and pass in a dictionary."
   ]
  },
  {
   "cell_type": "code",
   "execution_count": null,
   "metadata": {},
   "outputs": [],
   "source": [
    "contacts = {'David': '555-0123', 'Tom': '555-5678'}\n",
    "\n",
    "contacts['Nora'] = '555-2413'\n",
    "\n",
    "print(contacts)\n",
    "\n",
    "print(len(contacts))"
   ]
  },
  {
   "cell_type": "markdown",
   "metadata": {},
   "source": [
    "## Removing Items from a Dictionary\n",
    "\n",
    "To remove an item from a dictionary, use the **del** statement. The pattern is **del dictionary_name[key]**."
   ]
  },
  {
   "cell_type": "code",
   "execution_count": null,
   "metadata": {},
   "outputs": [],
   "source": [
    "contacts = {'David': '555-0123', 'Tom': '555-5678'}\n",
    "\n",
    "del contacts['David']\n",
    "\n",
    "print(contacts)"
   ]
  },
  {
   "cell_type": "markdown",
   "metadata": {},
   "source": [
    "Keep in mind that the values within a dictionary do not have to be of the same data type. In the following example you’ll see that while the value for the **David** key is a list, the value for the **Tom** key is a string."
   ]
  },
  {
   "cell_type": "code",
   "execution_count": null,
   "metadata": {},
   "outputs": [],
   "source": [
    "contacts = {\n",
    " 'David': ['555-0123', '555-0000'],\n",
    " 'Tom': '555-5678'\n",
    "}\n",
    "\n",
    "print('David:')\n",
    "\n",
    "print(contacts['David'])\n",
    "\n",
    "print('Tom:')\n",
    "\n",
    "print(contacts['Tom'])"
   ]
  },
  {
   "cell_type": "markdown",
   "metadata": {},
   "source": [
    "When you are assigning the items to the **contacts** dictionary you can use additional spaces as it will greatly improve readability\n",
    "\n",
    "As a result of the fact **dictionary_name(‘key_name’)** is capable of storing its associated value, you can act upon it like you would the actual values. To illustrate this, let’s use a **for** loop for all of David’s phone numbers."
   ]
  },
  {
   "cell_type": "code",
   "execution_count": null,
   "metadata": {},
   "outputs": [],
   "source": [
    "contacts = {\n",
    " 'David': ['555-0123', '555-0000'],\n",
    " 'Tom': '555-5678'\n",
    "}\n",
    "\n",
    "for number in contacts['David']:\n",
    "    print('Phone: {}'.format(number))"
   ]
  },
  {
   "cell_type": "markdown",
   "metadata": {},
   "source": [
    "## Finding a Key in a Dictionary\n",
    "\n",
    "If you would like to find out whether a certain key exists within a dictionary, use the **value** in **dictionary_name.keys()** syntax. If the value is in fact a key in the dictionary, **True** will be returned. If it is not, then False will be returned."
   ]
  },
  {
   "cell_type": "code",
   "execution_count": null,
   "metadata": {},
   "outputs": [],
   "source": [
    "contacts = {\n",
    " 'David': ['555-0123', '555-0000'],\n",
    " 'Tom': '555-5678'\n",
    "}\n",
    "\n",
    "if 'David' in contacts.keys():\n",
    "    print(\"David's phone number is:\")\n",
    "    print(contacts['David'][0])\n",
    "if 'Nora' in contacts.keys():\n",
    "    print(\"Nora's phone number is:\")\n",
    "    print(contacts['Nora'][0])"
   ]
  },
  {
   "cell_type": "markdown",
   "metadata": {},
   "source": [
    "Take note that **'David' in contacts** evaluates to **True**, so the code block which follows the **if**\n",
    "statement will be executed. Since **'Nora' in contacts** evaluates to **False**, the code block which\n",
    "follows that statement will not execute. Also, since **contacts['David']** holds a list, you can act on it\n",
    "as a list. Accordingly, **contacts['David'][0]** will return the first value in the list.\n",
    "\n",
    "## Finding a Value in a Dictionary\n",
    "\n",
    "Using the **values()** dictionary method returns a list of values within the dictionary. Use the **value in\n",
    "list** syntax to determine if the value actually exists within the list. If the value is in the list, **True** will be returned. Otherwise **False** will be returned."
   ]
  },
  {
   "cell_type": "code",
   "execution_count": null,
   "metadata": {},
   "outputs": [],
   "source": [
    "contacts = {\n",
    " 'David': ['555-0123', '555-0000'],\n",
    " 'Tom': '555-5678'\n",
    "}\n",
    "\n",
    "print ('555-5678' in contacts.values())"
   ]
  },
  {
   "cell_type": "markdown",
   "metadata": {},
   "source": [
    "## Looping through a Dictionary\n",
    "\n",
    "If you are looking to loop through items in a dictionary, one pattern you can use is **for key_variable\n",
    "in dictionary_name:**. The code block that follows after the for statement will then be executed for\n",
    "every item listed in the dictionary. To access the value of the item in the for loop, use the **dictionary_name[key_variable]** pattern. Unlike lists, dictionaries are unordered. The **for** loop will ensure that all of the items in the dictionary will be processed; however, there is absolutely no guarantee that they will be processed in the order you desire.\n",
    "\n",
    "It is a common practice to name dictionaries by using a plural noun, such as in the case of contacts. The standard pattern of the **for** loop will use the singular form of the dictionary name as the key variable. For example, **for contact in contacts** or **for person in people**."
   ]
  },
  {
   "cell_type": "code",
   "execution_count": null,
   "metadata": {},
   "outputs": [],
   "source": [
    "contacts = {\n",
    " 'David': '555-0123',\n",
    " 'Tom': '555-5678'\n",
    "}\n",
    "\n",
    "for contact in contacts:\n",
    "    print('The number for {0} is {1}.'.format(contact, contacts[contact]))"
   ]
  },
  {
   "cell_type": "markdown",
   "metadata": {},
   "source": [
    "You may also opt to utilize two variables when defining a for loop in order to process items within a dictionary. While the first variable comprises the key, the second one will contain the value. The pattern is **for key_variable, value_variable in dictionary_name.items():**."
   ]
  },
  {
   "cell_type": "code",
   "execution_count": null,
   "metadata": {},
   "outputs": [],
   "source": [
    "contacts = {'David': '555-0123', 'Tom': '555-5678'}\n",
    "\n",
    "for person, phone_number in contacts.items():\n",
    "    print('The number for {0} is {1}.'.format(person, phone_number))"
   ]
  },
  {
   "cell_type": "markdown",
   "metadata": {},
   "source": [
    "## Nesting Dictionaries\n",
    "\n",
    "Since the values contained in a dictionary can be of any data type you have the ability to nest dictionaries. In the following example, names are the keys for the **contacts** dictionary, while **phone** and **email** are the keys used within the nested dictionary. Each individual in this contact list has both a phone number and an email address. If you want to know David’s email address you can retrieve that information using **contacts['David']['email']**.\n",
    "\n",
    "Make sure to pay close attention to the location of colons, quotation marks, commas, and braces. Try\n",
    "using additional white space when you are coding these types of data structures to help visually\n",
    "represent the data structure."
   ]
  },
  {
   "cell_type": "code",
   "execution_count": null,
   "metadata": {},
   "outputs": [],
   "source": [
    "contacts = {\n",
    " 'David': {\n",
    " 'phone': '555-0123',\n",
    " 'email': 'david@gmail.com'\n",
    " },\n",
    " 'Tom': {\n",
    " 'phone': '555-5678',\n",
    " 'email': 'tom@gmail.com'\n",
    " }\n",
    "}\n",
    "\n",
    "for contact in contacts:\n",
    "    print(\"{}'s contact info:\".format(contact))\n",
    "    print(contacts[contact]['phone'])\n",
    "    print(contacts[contact]['email'])"
   ]
  },
  {
   "cell_type": "markdown",
   "metadata": {},
   "source": [
    "## Review\n",
    "Dictionaries hold key-value pairs, known as items. **Dictionary_name = {key_1: value_1, key_N: value_N}**\n",
    "\n",
    "A key allows you to access the values stored in a dictionary. **Dictionary_name[key]**\n",
    "\n",
    "Assignments allow you to add or change values in a dictionary. **Dictionary_name[key] = value**\n",
    "\n",
    "The **del** statement removes items from a dictionary. **del dictionary_name[key]**\n",
    "\n",
    "To determine if a key exists within a dictionary, use the **value in dictionary_name** syntax, which will\n",
    "return a Boolean.\n",
    "\n",
    "The **values()** dictionary method will return a list of the values that are stored in that dictionary.\n",
    "\n",
    "Loop through a dictionary using the **for key_variable in dictionary_name:** syntax.\n",
    "\n",
    "Dictionary values can be made up of any data type, including other dictionaries."
   ]
  },
  {
   "cell_type": "markdown",
   "metadata": {},
   "source": [
    "## Exercises\n",
    "\n",
    "## Interesting Facts\n",
    "\n",
    "Try to create a dictionary that has a listing of people and includes one interesting fact about each of them. Display each person and their interesting fact on the screen. From there, alter a fact about one of the people on the list. Also, add an extra person and corresponding fact to the list. Display the newly created list of people and facts. Try running the program multiple times and take note of whether the\n",
    "order changes.\n",
    "\n",
    "Sample output:"
   ]
  },
  {
   "cell_type": "raw",
   "metadata": {},
   "source": [
    "Jeff: Was born in France.\n",
    "\n",
    "David: Was a mascot in college.\n",
    "\n",
    "Anna: Has arachnophobia.\n",
    "\n",
    "Dylan: Has a pet hedgehog.\n",
    "\n",
    "Jeff: Was born in France.\n",
    "\n",
    "David: Can juggle.\n",
    "\n",
    "Anna: Has arachnophobia."
   ]
  },
  {
   "cell_type": "code",
   "execution_count": null,
   "metadata": {},
   "outputs": [],
   "source": [
    "# Write your solution here"
   ]
  }
 ],
 "metadata": {
  "kernelspec": {
   "display_name": "Python 2",
   "language": "python",
   "name": "python2"
  },
  "language_info": {
   "codemirror_mode": {
    "name": "ipython",
    "version": 2
   },
   "file_extension": ".py",
   "mimetype": "text/x-python",
   "name": "python",
   "nbconvert_exporter": "python",
   "pygments_lexer": "ipython2",
   "version": "2.7.17"
  }
 },
 "nbformat": 4,
 "nbformat_minor": 4
}
