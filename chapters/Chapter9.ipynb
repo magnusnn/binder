{
 "cells": [
  {
   "cell_type": "markdown",
   "metadata": {},
   "source": [
    "# Chapter 9 Modules\n",
    "#### Material based on the Python book in the Succintly series made by Syncfusion\n",
    "## Modules\n",
    "\n",
    "A Python module is a file that has a **.py** extension. These can be used to implement a set of attributes\n",
    "(variables), methods (functions), and classes (types). You can include a module in another Python program simply by using the **import** statement followed by the module name. To import a module named **requests**, include **import requests** within your Python program. You can now access the methods within the requests module by calling **requests.method_name()** or attributes, sometimes called variables, by calling **time.attribute_name**. The following code listing is an example using the **get()** method from the **requests** module. "
   ]
  },
  {
   "cell_type": "code",
   "execution_count": null,
   "metadata": {},
   "outputs": [],
   "source": [
    "import requests\n",
    "\n",
    "x = requests.get('https://w3schools.com/python/demopage.htm')\n",
    "\n",
    "print(x.text)"
   ]
  },
  {
   "cell_type": "markdown",
   "metadata": {},
   "source": [
    "Whenever you **import module_name**, all of the methods in that module will be available as **module_name.method_name()**. If you opt to use a single method in a module you can import just that method using the **from module_name import method_name** syntax. Now the method can be accessed in your program by name. Instead of calling **module_name.method_name()**, you can now\n",
    "simply call **method_name()**."
   ]
  },
  {
   "cell_type": "code",
   "execution_count": 2,
   "metadata": {},
   "outputs": [
    {
     "name": "stdout",
     "output_type": "stream",
     "text": [
      "<!DOCTYPE html>\r\n",
      "<html>\r\n",
      "<body>\r\n",
      "\r\n",
      "<h1>This is a Test Page</h1>\r\n",
      "\r\n",
      "</body>\r\n",
      "</html>\n"
     ]
    }
   ],
   "source": [
    "from requests import get\n",
    "\n",
    "print(get('https://w3schools.com/python/demopage.htm').text)"
   ]
  },
  {
   "cell_type": "markdown",
   "metadata": {},
   "source": [
    "It is possible to do the same thing using module attributes and classes. If you are looking to import\n",
    "more than one item from a module you can create a separate **from module_name import method_name** line for each one. You can also opt to provide a comma separated list like this: **from module_name import method_name1, method_name2, method_nameN**. Let's import the **get()** and **head()** methods from the **requests** module. "
   ]
  },
  {
   "cell_type": "code",
   "execution_count": 9,
   "metadata": {},
   "outputs": [
    {
     "name": "stdout",
     "output_type": "stream",
     "text": [
      "<!DOCTYPE html>\n",
      "<html>\n",
      "<body>\n",
      "\n",
      "<h1>This is a Test Page</h1>\n",
      "\n",
      "</body>\n",
      "</html>\n",
      "{'Content-Encoding': 'gzip', 'Cache-Control': 'public', 'Content-Type': 'text/html', 'Date': 'Sun, 23 Aug 2020 17:48:12 GMT', 'Server': 'Microsoft-IIS/7.5', 'Vary': 'Accept-Encoding', 'X-Frame-Options': 'SAMEORIGIN', 'X-Powered-By': 'PHP/5.4.2, ASP.NET', 'Content-Length': '0'}\n"
     ]
    }
   ],
   "source": [
    "from requests import get, head\n",
    "\n",
    "html_page = get('https://w3schools.com/python/demopage.htm').text\n",
    "\n",
    "print(html_page)\n",
    "\n",
    "request_header = head('https://www.w3schools.com/python/demopage.php').headers\n",
    "\n",
    "print(request_header)"
   ]
  },
  {
   "cell_type": "markdown",
   "metadata": {},
   "source": [
    "One of the primary benefits of importing either a single method or list of methods from a module is that\n",
    "you can access it directly by name without having to precede it with the module name. For example,\n",
    "**get('https://something.com')** versus **reqeusts.get('https://something.com')**. If you want to be able to access everything from a module, you could use an asterisk instead of a list of methods to import. However, this is not a practice we\n",
    "recommend. It is worth mentioning here only because you will see it used from time to time. The main\n",
    "reason it is best to avoid this approach is that you run the risk of overriding an existing function or\n",
    "variable if you import everything into your program. Also, when you import multiple methods using an\n",
    "asterisk, you will find it hard to determine what exactly came from where."
   ]
  },
  {
   "cell_type": "code",
   "execution_count": 12,
   "metadata": {},
   "outputs": [
    {
     "name": "stdout",
     "output_type": "stream",
     "text": [
      "<!DOCTYPE html>\n",
      "<html>\n",
      "<body>\n",
      "\n",
      "<h1>This is a Test Page</h1>\n",
      "\n",
      "</body>\n",
      "</html>\n",
      "{'Content-Encoding': 'gzip', 'Cache-Control': 'public', 'Content-Type': 'text/html', 'Date': 'Sun, 23 Aug 2020 17:52:17 GMT', 'Server': 'Microsoft-IIS/7.5', 'Vary': 'Accept-Encoding', 'X-Frame-Options': 'SAMEORIGIN', 'X-Powered-By': 'PHP/5.4.2, ASP.NET', 'Content-Length': '0'}\n"
     ]
    }
   ],
   "source": [
    "from requests import *\n",
    "\n",
    "print(get('https://w3schools.com/python/demopage.htm').text)\n",
    "\n",
    "print(head('https://www.w3schools.com/python/demopage.php').headers)\n"
   ]
  },
  {
   "cell_type": "markdown",
   "metadata": {},
   "source": [
    "## Peeking Inside a Module\n",
    "\n",
    "You can use the built-in **dir()** function to discover which attributes, methods, and classes exist within\n",
    "any one module."
   ]
  },
  {
   "cell_type": "raw",
   "metadata": {},
   "source": [
    ">>> import requests\n",
    ">>> dir(requests)\n",
    "\n",
    "['ConnectTimeout',\n",
    " 'ConnectionError',\n",
    " 'DependencyWarning',\n",
    " 'FileModeWarning',\n",
    " 'HTTPError',\n",
    " 'NullHandler',\n",
    " 'PreparedRequest',\n",
    " 'ReadTimeout',\n",
    " 'Request',\n",
    " 'RequestException',\n",
    " 'RequestsDependencyWarning',\n",
    " 'Response',\n",
    " 'Session',\n",
    " 'Timeout',\n",
    " 'TooManyRedirects',\n",
    " 'URLRequired',\n",
    " '__author__',\n",
    " '__author_email__',\n",
    " '__build__',\n",
    " '__builtins__',\n",
    " '__cached__',\n",
    " '__cake__',\n",
    " '__copyright__',\n",
    " '__description__',\n",
    " '__doc__',\n",
    " '__file__',\n",
    " '__license__',\n",
    " '__loader__',\n",
    " '__name__',\n",
    " '__package__',\n",
    " '__path__',\n",
    " '__spec__',\n",
    " '__title__',\n",
    " '__url__',\n",
    " '__version__',\n",
    " '_check_cryptography',\n",
    " '_internal_utils',\n",
    " 'adapters',\n",
    " 'api',\n",
    " 'auth',\n",
    " 'certs',\n",
    " 'chardet',\n",
    " 'check_compatibility',\n",
    " 'codes',\n",
    " 'compat',\n",
    " 'cookies',\n",
    " 'delete',\n",
    " 'exceptions',\n",
    " 'get',\n",
    " 'head',\n",
    " 'hooks',\n",
    " 'logging',\n",
    " 'models',\n",
    " 'options',\n",
    " 'packages',\n",
    " 'patch',\n",
    " 'post',\n",
    " 'put',\n",
    " 'request',\n",
    " 'session',\n",
    " 'sessions',\n",
    " 'ssl',\n",
    " 'status_codes',\n",
    " 'structures',\n",
    " 'urllib3',\n",
    " 'utils',\n",
    " 'warnings']"
   ]
  },
  {
   "cell_type": "markdown",
   "metadata": {},
   "source": [
    "# Write some code\n",
    "\n",
    "Try writing some code on your own! Let's try to use two of the methods to the module **requests**. Use the **requests.post()** to make a request to **https://api.github.com/search/repositories** and use the method **json()** to parse the result and in the end use a **for** loop to print the **name** and **description** from the result. "
   ]
  },
  {
   "cell_type": "code",
   "execution_count": null,
   "metadata": {},
   "outputs": [],
   "source": [
    "import requests\n",
    "\n",
    "# Post request to Git api\n",
    "response = requests.get(\n",
    "    '# request URL',\n",
    "    params={'q': '# Your searchword'},\n",
    ")\n",
    "\n",
    "# Parse the response\n",
    "json_response = # parse the response here\n",
    "\n",
    "# Print the response\n",
    "for response_item in json_response['items']:\n",
    "    print('Repository name: {}'.format(# Name property for the list item)) \n",
    "    print('Repository description: {}'.format(# Description property for the list item))\n",
    "\n",
    "\n"
   ]
  },
  {
   "cell_type": "markdown",
   "metadata": {},
   "source": [
    "## The Python Standard Library\n",
    "\n",
    "As we’ve worked through previous examples, we have been using the time module which comes\n",
    "included with Python. In fact, Python is supplied with a large library of modules for you to take\n",
    "advantage of. I would highly recommend that you take some time to really look at what the Python\n",
    "standard library has to offer before you even think of writing any of your own code. For example, if you\n",
    "are looking to read and write CSV (comma-separated values) files, don’t waste your time creating\n",
    "something from scratch when it already exists. Just use Python's pre-existing csv module. Are you\n",
    "looking to enable logging in your program? Well, there’s a **logging** module which can help you do that.\n",
    "\n",
    "Now, let's use the **exit()** method from the **sys** module to cleanly terminate your program if it detects\n",
    "an error. In the following example, the file **test.txt** is opened. If the program encounters an error\n",
    "while the file is opening, the code block following **except:** will execute. If the reading of **test.txt** is mandatory for the remaining code to function correctly, there is no need to continue. The **exit()**\n",
    "method can accept an exit code as an argument. If no exit code is provided, <b>0</b> will be used. By\n",
    "convention, when an error causes a program to exit, a non-zero exit code is expected."
   ]
  },
  {
   "cell_type": "code",
   "execution_count": null,
   "metadata": {},
   "outputs": [],
   "source": [
    "file_name = 'test.txt'\n",
    "\n",
    "try:\n",
    "    with open(file_name) as test_file:\n",
    "        for line in test_file:\n",
    "            print(line)\n",
    "except:\n",
    "    print('Could not open {}.'.format(file_name))\n",
    "    exit(1)"
   ]
  },
  {
   "cell_type": "markdown",
   "metadata": {},
   "source": [
    "## Creating Your Own Modules\n",
    "\n",
    "Just as Python has a library of its own reusable code, so can you. It’s quite simple to create your own\n",
    "module. Just remember that in its least complex form, modules are files that have a **.py** extension.\n",
    "Simply create a Python file with your code and **import** it from another Python program.\n",
    "\n",
    "The following code listing is the content of say_hello.py."
   ]
  },
  {
   "cell_type": "raw",
   "metadata": {},
   "source": [
    "def say_hello():\n",
    "    print('Hello!')"
   ]
  },
  {
   "cell_type": "markdown",
   "metadata": {},
   "source": [
    "Note how you can import and use the **say_hello** module. To call the **say_hello()** method within the\n",
    "**say_hello** module, use **say_hello.say_hello()**."
   ]
  },
  {
   "cell_type": "code",
   "execution_count": null,
   "metadata": {},
   "outputs": [],
   "source": [
    "import say_hello\n",
    "\n",
    "say_hello.say_hello()"
   ]
  },
  {
   "cell_type": "markdown",
   "metadata": {},
   "source": [
    "The following example is another simple module called **say_hello2**. The following code is the body of\n",
    "**say_hello2.py**."
   ]
  },
  {
   "cell_type": "raw",
   "metadata": {},
   "source": [
    "def say_hello():\n",
    "    print('Hello!')\n",
    "\n",
    "print('Hello from say_hello2.py!')"
   ]
  },
  {
   "cell_type": "markdown",
   "metadata": {},
   "source": [
    "Let's find out what happens when you import the **say_hello2** module"
   ]
  },
  {
   "cell_type": "code",
   "execution_count": null,
   "metadata": {},
   "outputs": [],
   "source": [
    "import say_hello2\n",
    "\n",
    "say_hello2.say_hello()"
   ]
  },
  {
   "cell_type": "markdown",
   "metadata": {},
   "source": [
    "So what happened? Well, when **say_hello2** is imported its contents are executed. First, the\n",
    "**say_hello()** function is defined. From there the **print** function is executed. In this way Python\n",
    "enables you to create programs that behave one way when they are executed, and another way when\n",
    "they are imported. If you would like to be able to reuse functions from an existing Python program, but\n",
    "have no desire to execute the main program, you can account for that."
   ]
  },
  {
   "cell_type": "markdown",
   "metadata": {},
   "source": [
    "## Using main\n",
    "\n",
    "Whenever a Python file is executed as a program, the special variable <b>\\_\\_name\\_\\_</b> will be set to\n",
    "<b>\\_\\_main\\_\\_</b>. Notice that there are two underscore characters on each side of the names of these special\n",
    "variables. In instances where it is imported, the <b>\\_\\_name\\_\\_</b> variable will not be populated. Ultimately you\n",
    "can use this to control the behavior of your Python program. The following code sample is the\n",
    "**say_hello3.py** file.\n"
   ]
  },
  {
   "cell_type": "raw",
   "metadata": {},
   "source": [
    "def say_hello():\n",
    "    print('Hello!')\n",
    "\n",
    "def main():\n",
    "    print('Hello from say_hello3.py!')\n",
    "    say_hello()\n",
    "\n",
    "if __name__ == '__main__':\n",
    " main()"
   ]
  },
  {
   "cell_type": "markdown",
   "metadata": {},
   "source": [
    "Whenever it is executed as a program, the code block following **if \\_\\_name\\_\\_ == '\\_\\_main\\_\\_'** will be\n",
    "executed. In the following example it simply calls **main()**. This is a very common pattern and you will\n",
    "see this within many Python applications. When **say_hello3.py** is imported as a module nothing will\n",
    "be executed unless explicitly called from the importing program.\n"
   ]
  },
  {
   "cell_type": "raw",
   "metadata": {},
   "source": [
    "[david@mac ~]$ python3 say_hello3.py\n",
    "\n",
    "Hello from say_hello3.py!\n",
    "\n",
    "Hello!\n",
    "\n",
    "[david@mac ~]$"
   ]
  },
  {
   "cell_type": "markdown",
   "metadata": {},
   "source": [
    "## Review\n",
    "\n",
    "Python modules are files that have a .py extension and are capable of implementing a set of variables,\n",
    "functions, and classes.\n",
    "\n",
    "Use the **import module_name** syntax to import a module.\n",
    "\n",
    "The default module search path will be determined by your Python installation.\n",
    "\n",
    "The Python standard library is a sizeable collection of code that can be reused within your Python\n",
    "programs.\n",
    "\n",
    "Use the **dir()** built-in function to find out exactly what exists within a module.\n",
    "\n",
    "You can establish your own personal library by writing your own modules.\n",
    "\n",
    "You can influence how a Python program behaves based on whether it is run interactively or imported\n",
    "by checking the value of <b>\\_\\_name\\_\\_</b>.\n",
    "\n",
    "The **if \\_\\_name\\_\\_ == '\\_\\_main\\_\\_':** syntax is a common Python idiom."
   ]
  },
  {
   "cell_type": "markdown",
   "metadata": {},
   "source": [
    "## Exercises\n",
    "\n",
    "## Pig Speak, Redux\n",
    "\n",
    "Update the \"Pig Speak\" program we discussed in Chapter 1 so that it can be imported as a module or\n",
    "run directly. When run as a program it should prompt for input, as well as display a pig \"saying\" what\n",
    "was provided by the user. Place the input provided by the user inside a speech bubble. This speech\n",
    "bubble can be expanded or contracted to fit around the input provided by the user.\n",
    "\n",
    "The following code listing shows the sample output when run interactively."
   ]
  },
  {
   "cell_type": "raw",
   "metadata": {},
   "source": [
    "                 ----------------------\n",
    "                 <Pet me and I will oink >\n",
    "                 ----------------------\n",
    "                /\n",
    "          ^..^ /\n",
    "        ~( ( oo )\n",
    "         ,, ,,\n"
   ]
  },
  {
   "cell_type": "markdown",
   "metadata": {},
   "source": [
    "From here, create a new program called **pig_talk.py** that imports the **pig_say** module. Try using a\n",
    "function from the **pig_say()** module to display a variety of messages to the screen.\n",
    "\n",
    "The following code listing shows the sample output when used as a module."
   ]
  },
  {
   "cell_type": "raw",
   "metadata": {},
   "source": [
    "                 ____________\n",
    "                 < Feed me. >\n",
    "                 ------------\n",
    "                 /\n",
    "           ^..^ /\n",
    "         ~( ( oo )\n",
    "           ,, ,,\n",
    "           \n",
    "           \n",
    "                 ____________\n",
    "                 < Oink. Oink. >\n",
    "                 ------------\n",
    "                 /\n",
    "           ^..^ /\n",
    "         ~( ( oo )\n",
    "           ,, ,,\n"
   ]
  },
  {
   "cell_type": "code",
   "execution_count": null,
   "metadata": {},
   "outputs": [],
   "source": [
    "# Write your solution here"
   ]
  }
 ],
 "metadata": {
  "kernelspec": {
   "display_name": "Python 3",
   "language": "python",
   "name": "python3"
  },
  "language_info": {
   "codemirror_mode": {
    "name": "ipython",
    "version": 3
   },
   "file_extension": ".py",
   "mimetype": "text/x-python",
   "name": "python",
   "nbconvert_exporter": "python",
   "pygments_lexer": "ipython3",
   "version": "3.8.3"
  }
 },
 "nbformat": 4,
 "nbformat_minor": 4
}
